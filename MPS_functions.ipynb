{
 "metadata": {
  "language_info": {
   "codemirror_mode": {
    "name": "ipython",
    "version": 3
   },
   "file_extension": ".py",
   "mimetype": "text/x-python",
   "name": "python",
   "nbconvert_exporter": "python",
   "pygments_lexer": "ipython3",
   "version": "3.8.3-final"
  },
  "orig_nbformat": 2,
  "kernelspec": {
   "name": "python3",
   "display_name": "Python 3",
   "language": "python"
  }
 },
 "nbformat": 4,
 "nbformat_minor": 2,
 "cells": [
  {
   "cell_type": "code",
   "execution_count": 1,
   "metadata": {},
   "outputs": [],
   "source": [
    "import numpy as np\n",
    "import Operator as op\n",
    "import copy\n",
    "import MPS"
   ]
  },
  {
   "cell_type": "code",
   "execution_count": 2,
   "metadata": {},
   "outputs": [
    {
     "output_type": "stream",
     "name": "stdout",
     "text": [
      "MPS中张量形状为\n0 (2, 5)\n1 (5, 2, 5)\n2 (5, 2, 5)\n3 (5, 2, 5)\n4 (5, 2)\n"
     ]
    }
   ],
   "source": [
    "x = MPS.mps.init_rand(d = 2, chi = 5, length = 5)\n",
    "# :param d: 物理指标维数\n",
    "# :param chi: 辅助指标截断维数\n",
    "# :param length: 张量个数\n",
    "\n",
    "print('MPS中张量形状为')\n",
    "for n in range(0, x.length):\n",
    "    print(n, x.tensors[n].shape)\n",
    "    # tensors是一个list"
   ]
  },
  {
   "cell_type": "code",
   "execution_count": 3,
   "metadata": {},
   "outputs": [
    {
     "output_type": "stream",
     "name": "stdout",
     "text": [
      "MPS中张量形状为\n0 (3, 5)\n1 (5, 10, 9)\n2 (9, 2, 7)\n3 (7, 10, 3)\n4 (3, 6)\n"
     ]
    }
   ],
   "source": [
    "tensors = list()\n",
    "tensors += [np.random.randn(3, 5)]\n",
    "tensors += [np.random.randn(5, 10, 9)]\n",
    "tensors += [np.random.randn(9, 2, 7)]\n",
    "tensors += [np.random.randn(7, 10, 3)]\n",
    "tensors += [np.random.randn(3, 6)]\n",
    "y = MPS.mps.init_tensors(tensors)\n",
    "\n",
    "print('MPS中张量形状为')\n",
    "for n in range(0, y.length):\n",
    "    print(n, y.tensors[n].shape)"
   ]
  },
  {
   "cell_type": "code",
   "execution_count": 4,
   "metadata": {},
   "outputs": [
    {
     "output_type": "stream",
     "name": "stdout",
     "text": [
      "裁剪维数 = 5 ，误差 = 6.175225736672893e-16\n裁剪维数 = 4 ，误差 = 6.175225736672893e-16\n裁剪维数 = 3 ，误差 = 0.009827143114020739\n裁剪维数 = 2 ，误差 = 0.011113769867112433\n\n收缩内向指标后得到单位阵\n[[1.00000000e+00 9.35124374e-17]\n [9.35124374e-17 1.00000000e+00]]\n"
     ]
    }
   ],
   "source": [
    "for cut_dim in range(5, 1, -1):\n",
    "    np.random.seed(0)\n",
    "    x = MPS.mps.init_rand(d = 2, chi = 5, length = 5)\n",
    "    X = x.mps2tensor()\n",
    "    X = X/np.linalg.norm(X)\n",
    "    x.center_orth(center = 2, cut_dim = cut_dim)\n",
    "    X1 = x.mps2tensor()\n",
    "    X1 = X1/np.linalg.norm(X1)\n",
    "    err = np.linalg.norm(X-X1)\n",
    "    print('裁剪维数 =', cut_dim, '，误差 =', err)\n",
    "\n",
    "print('\\n收缩内向指标后得到单位阵')\n",
    "I = np.einsum('abc, abd -> cd', x.tensors[1], x.tensors[1])\n",
    "print(I)"
   ]
  },
  {
   "cell_type": "code",
   "execution_count": 5,
   "metadata": {},
   "outputs": [
    {
     "output_type": "stream",
     "name": "stdout",
     "text": [
      "normalize函数：\n归一化前 <x|x> = 24011.680555566854\n归一化后 <x|x> = 0.9999999999999983\n\ncenter_orth函数：\n归一化前 <x|x> = 24011.680555566854\n归一化后 <x|x> = 1.0\n"
     ]
    }
   ],
   "source": [
    "print('normalize函数：')\n",
    "np.random.seed(0)\n",
    "x = MPS.mps.init_rand(d = 2, chi = 5, length = 5)\n",
    "print('归一化前 <x|x> =', x.inner(x))\n",
    "x.normalize()\n",
    "print('归一化后 <x|x> =', x.inner(x))\n",
    "\n",
    "print('\\ncenter_orth函数：')\n",
    "np.random.seed(0)\n",
    "x = MPS.mps.init_rand(d = 2, chi = 5, length = 5)\n",
    "print('归一化前 <x|x> =', x.inner(x))\n",
    "x.center_orth(center = 2, normalize = True)\n",
    "print('归一化后 <x|x> =', x.inner(x))"
   ]
  },
  {
   "cell_type": "code",
   "execution_count": 6,
   "metadata": {},
   "outputs": [
    {
     "output_type": "stream",
     "name": "stdout",
     "text": [
      "(<x|y>^2)/(<x|x><y|y>) = 0.9999999999999999\n"
     ]
    }
   ],
   "source": [
    "np.random.seed(0)\n",
    "x = MPS.mps.init_rand(d = 2, chi = 5, length = 5)\n",
    "y = copy.deepcopy(x)\n",
    "so = op.spin_operator() # 自旋算符字典\n",
    "I = np.kron(so['i'], so['i']).reshape(2, 2, 2, 2)   # 单位门\n",
    "y.evolve_gate(I, 2)\n",
    "\n",
    "xy = (x.inner(y) ** 2) / (x.inner(x) * y.inner(y))\n",
    "print('(<x|y>^2)/(<x|x><y|y>) =', xy)"
   ]
  },
  {
   "cell_type": "code",
   "execution_count": 7,
   "metadata": {},
   "outputs": [],
   "source": [
    "x = MPS.mps.init_rand(d = 2, chi = 5, length = 5)\n",
    "H = op.heisenberg_hamilt([1]*3, [0]*3)\n",
    "x.TEBD(hamiltonion = H, tau = 0.001, cut_dim = -1, times = 100)\n",
    "# param hamiltonion: 局域哈密顿量，格点间哈密顿量不同使用list输入，相同直接输入矩阵\n",
    "# param tau: 模拟时间步长\n",
    "# param cut_dim: 裁剪维数，-1表示不裁剪\n",
    "# param times: 模拟步数"
   ]
  },
  {
   "cell_type": "code",
   "execution_count": 8,
   "metadata": {},
   "outputs": [],
   "source": [
    "H = op.heisenberg_hamilt([1]*3, [0]*3)\n",
    "gs = MPS.ground_state(length = 5, hamiltonion = H, tau = 0.001, tol = 1e-6, times = 1e6)\n",
    "# param length: MPS长度（格点数）\n",
    "# param hamiltonion: 局域哈密顿量\n",
    "# param tau: 模拟时间步长\n",
    "# param tol: 误差上限\n",
    "# param times: 模拟步数上限"
   ]
  }
 ]
}