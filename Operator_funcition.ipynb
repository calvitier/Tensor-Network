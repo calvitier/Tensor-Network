{
 "metadata": {
  "language_info": {
   "codemirror_mode": {
    "name": "ipython",
    "version": 3
   },
   "file_extension": ".py",
   "mimetype": "text/x-python",
   "name": "python",
   "nbconvert_exporter": "python",
   "pygments_lexer": "ipython3",
   "version": "3.8.3-final"
  },
  "orig_nbformat": 2,
  "kernelspec": {
   "name": "python3",
   "display_name": "Python 3.8.3 64-bit",
   "metadata": {
    "interpreter": {
     "hash": "731cbb73a4bf88ae2f5123cc0c4d4e309c0309984f523cb2ae19e50a39613544"
    }
   }
  }
 },
 "nbformat": 4,
 "nbformat_minor": 2,
 "cells": [
  {
   "cell_type": "code",
   "execution_count": 1,
   "metadata": {},
   "outputs": [],
   "source": [
    "import Operator as op"
   ]
  },
  {
   "cell_type": "code",
   "execution_count": 2,
   "metadata": {},
   "outputs": [
    {
     "output_type": "stream",
     "name": "stdout",
     "text": [
      "X =\n[[0.  0.5]\n [0.5 0. ]]\nY =\n[[ 0.+0.j   0.+0.5j]\n [-0.-0.5j  0.+0.j ]]\nZ =\n[[ 0.5  0. ]\n [ 0.  -0.5]]\nI =\n[[1. 0.]\n [0. 1.]]\n"
     ]
    }
   ],
   "source": [
    "spin = op.spin_operator()   # 自旋算符字典\n",
    "print('X =')\n",
    "print(spin['x'])\n",
    "print('Y =')\n",
    "print(spin['y'])\n",
    "print('Z =')\n",
    "print(spin['z'])\n",
    "print('I =')\n",
    "print(spin['i'])"
   ]
  },
  {
   "cell_type": "code",
   "execution_count": 3,
   "metadata": {},
   "outputs": [
    {
     "output_type": "stream",
     "name": "stdout",
     "text": [
      "耦合系数为1，无磁场时的海森堡哈密顿量\n[[ 0.25  0.    0.    0.  ]\n [ 0.   -0.25  0.5   0.  ]\n [ 0.    0.5  -0.25  0.  ]\n [ 0.    0.    0.    0.25]]\n"
     ]
    }
   ],
   "source": [
    "H = op.heisenberg_hamilt([1]*3, [0]*3)\n",
    "print('耦合系数为1，无磁场时的海森堡哈密顿量')\n",
    "print(H)"
   ]
  }
 ]
}