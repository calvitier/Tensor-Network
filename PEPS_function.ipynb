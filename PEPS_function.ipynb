{
 "metadata": {
  "language_info": {
   "codemirror_mode": {
    "name": "ipython",
    "version": 3
   },
   "file_extension": ".py",
   "mimetype": "text/x-python",
   "name": "python",
   "nbconvert_exporter": "python",
   "pygments_lexer": "ipython3",
   "version": "3.8.3-final"
  },
  "orig_nbformat": 2,
  "kernelspec": {
   "name": "python3",
   "display_name": "Python 3.8.3 64-bit",
   "metadata": {
    "interpreter": {
     "hash": "731cbb73a4bf88ae2f5123cc0c4d4e309c0309984f523cb2ae19e50a39613544"
    }
   }
  }
 },
 "nbformat": 4,
 "nbformat_minor": 2,
 "cells": [
  {
   "cell_type": "code",
   "execution_count": 1,
   "metadata": {},
   "outputs": [],
   "source": [
    "import PEPS\n",
    "import Operator as op"
   ]
  },
  {
   "cell_type": "code",
   "execution_count": 6,
   "metadata": {},
   "outputs": [
    {
     "output_type": "stream",
     "name": "stdout",
     "text": [
      "各张量维数为\n(i, j) = (0, 0) (5, 5, 2)\n(i, j) = (0, 1) (5, 5, 5, 2)\n(i, j) = (0, 2) (5, 5, 2)\n(i, j) = (1, 0) (5, 5, 5, 2)\n(i, j) = (1, 1) (5, 5, 5, 5, 2)\n(i, j) = (1, 2) (5, 5, 5, 2)\n(i, j) = (2, 0) (5, 5, 2)\n(i, j) = (2, 1) (5, 5, 5, 2)\n(i, j) = (2, 2) (5, 5, 2)\n"
     ]
    }
   ],
   "source": [
    "x = PEPS.peps.init_rand(2, 5, (3, 3))\n",
    "print('各张量维数为')\n",
    "for i in range(0, x.n):\n",
    "    for j in range(0, x.m):\n",
    "        print('(i, j) =', f'({i}, {j})', x.tensors[i][j].shape)"
   ]
  },
  {
   "cell_type": "code",
   "execution_count": null,
   "metadata": {},
   "outputs": [],
   "source": []
  }
 ]
}