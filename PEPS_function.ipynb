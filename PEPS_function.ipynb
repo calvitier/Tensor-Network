{
 "metadata": {
  "language_info": {
   "codemirror_mode": {
    "name": "ipython",
    "version": 3
   },
   "file_extension": ".py",
   "mimetype": "text/x-python",
   "name": "python",
   "nbconvert_exporter": "python",
   "pygments_lexer": "ipython3",
   "version": "3.8.3-final"
  },
  "orig_nbformat": 2,
  "kernelspec": {
   "name": "python3",
   "display_name": "Python 3.8.3 64-bit",
   "metadata": {
    "interpreter": {
     "hash": "731cbb73a4bf88ae2f5123cc0c4d4e309c0309984f523cb2ae19e50a39613544"
    }
   }
  }
 },
 "nbformat": 4,
 "nbformat_minor": 2,
 "cells": [
  {
   "cell_type": "code",
   "execution_count": 1,
   "metadata": {},
   "outputs": [],
   "source": [
    "import PEPS\n",
    "import Operator as op\n",
    "import numpy as np\n",
    "import copy"
   ]
  },
  {
   "cell_type": "code",
   "execution_count": 2,
   "metadata": {},
   "outputs": [
    {
     "output_type": "stream",
     "name": "stdout",
     "text": [
      "各张量形状为\n(i, j) = (0, 0), shape = (5, 5, 2)\n(i, j) = (0, 1), shape = (5, 5, 5, 2)\n(i, j) = (0, 2), shape = (5, 5, 2)\n(i, j) = (1, 0), shape = (5, 5, 5, 2)\n(i, j) = (1, 1), shape = (5, 5, 5, 5, 2)\n(i, j) = (1, 2), shape = (5, 5, 5, 2)\n(i, j) = (2, 0), shape = (5, 5, 2)\n(i, j) = (2, 1), shape = (5, 5, 5, 2)\n(i, j) = (2, 2), shape = (5, 5, 2)\n"
     ]
    }
   ],
   "source": [
    "x = PEPS.peps.init_rand(pd = 2, vd = 5, shape = (3, 3))\n",
    "# para pd: 物理指标维数\n",
    "# para vd: 虚拟指标维数\n",
    "# para shape: PEPS形状\n",
    "\n",
    "print('各张量形状为')\n",
    "for i in range(0, x.n):\n",
    "    for j in range(0, x.m):\n",
    "        print(f'(i, j) = ({i}, {j}), shape = {x.tensors[i][j].shape}')"
   ]
  },
  {
   "cell_type": "code",
   "execution_count": 3,
   "metadata": {},
   "outputs": [
    {
     "output_type": "stream",
     "name": "stdout",
     "text": [
      "归一化前 <x|x> = 144980802539637.34\n",
      "归一化后 <x|x> = 1.0000000000000009\n"
     ]
    }
   ],
   "source": [
    "np.random.seed(0)\n",
    "x = PEPS.peps.init_rand(2, 5, (3, 3))\n",
    "print('归一化前 <x|x> =', x.inner(x))\n",
    "x.normalize()\n",
    "print('归一化后 <x|x> =', x.inner(x))"
   ]
  },
  {
   "cell_type": "code",
   "execution_count": 4,
   "metadata": {},
   "outputs": [],
   "source": [
    "x = PEPS.peps.init_rand(2, 5, (3, 3))\n",
    "x.to_Gamma_Lambda() # 转化为Gamma-Lambda形式\n",
    "x.to_PEPS() # 转化为PEPS"
   ]
  },
  {
   "cell_type": "code",
   "execution_count": 5,
   "metadata": {},
   "outputs": [],
   "source": [
    "x = PEPS.peps.init_rand(2, 5, (3, 3))\n",
    "sp = op.spin_operator() # 自旋算符字典\n",
    "I = np.kron(sp['i'], sp['i']).reshape(2, 2, 2, 2)   # 单位门\n",
    "x.evolve_gate(I, (1, 1), (1, 2))"
   ]
  },
  {
   "cell_type": "code",
   "execution_count": 6,
   "metadata": {},
   "outputs": [],
   "source": [
    "x = PEPS.peps.init_rand(2, 5, (3, 3))\n",
    "H = op.heisenberg_hamilt([1]*3, [0]*3)\n",
    "x.TEBD(hamiltonion = H, tau = 0.001, cut_dim = -1)\n",
    "# param hamiltonion: 局域哈密顿量\n",
    "# param tau: 模拟时间步长\n",
    "# param cut_dim: 裁剪维数，-1表示不裁剪"
   ]
  }
 ]
}