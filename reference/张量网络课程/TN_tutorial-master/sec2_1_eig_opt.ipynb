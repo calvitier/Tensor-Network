{
 "cells": [
  {
   "cell_type": "code",
   "execution_count": 1,
   "metadata": {},
   "outputs": [],
   "source": [
    "import numpy as np\n",
    "import copy\n",
    "import matplotlib.pyplot as plt"
   ]
  },
  {
   "cell_type": "code",
   "execution_count": 2,
   "metadata": {},
   "outputs": [
    {
     "name": "stdout",
     "output_type": "stream",
     "text": [
      "[[-0.23699977  0.74029037  0.19926341 -0.44462407]\n",
      " [ 0.74029037  0.71792872  0.47324132  1.75475346]\n",
      " [ 0.19926341  0.47324132  2.06243397 -1.14174577]\n",
      " [-0.44462407  1.75475346 -1.14174577 -3.93667186]]\n",
      "\n",
      " Eigenvalues:\n",
      "[-4.83004377 -0.36887762  1.45552182  2.35009063]\n",
      "\n",
      " Eigenvectors:\n",
      "[[-0.13390826  0.93696931  0.28237085 -0.15628113]\n",
      " [ 0.32371695 -0.25620021  0.88539067 -0.21366365]\n",
      " [-0.17090423 -0.12251828 -0.20371314 -0.95618093]\n",
      " [-0.92090589 -0.20356628  0.30797894  0.12506833]]\n",
      "\n",
      " The 0-th eigenvalue is the maximal one\n",
      "Dominant eigenvalue = -4.830043768468989\n",
      "Dominant eigenvector = \n",
      "[-0.13390826  0.32371695 -0.17090423 -0.92090589]\n"
     ]
    }
   ],
   "source": [
    "# Randomly check the equivalence between the maximal eigenvalue problem and the optimization problem\n",
    "\n",
    "dim = 4\n",
    "M = np.random.randn(dim, dim)\n",
    "M = M + M.T  # 对称化以保证本征分解存在\n",
    "print(M)\n",
    "\n",
    "lm, u = np.linalg.eig(M)\n",
    "print('\\n Eigenvalues:')\n",
    "print(lm)\n",
    "\n",
    "print('\\n Eigenvectors:')\n",
    "print(u)\n",
    "\n",
    "n_max = np.argmax(abs(lm))\n",
    "lm_max = lm[n_max]\n",
    "v_max = u[:, n_max]\n",
    "print('\\n The ' + str(n_max) + '-th eigenvalue is the maximal one')\n",
    "print('Dominant eigenvalue = ' + str(lm_max))\n",
    "print('Dominant eigenvector = ')\n",
    "print(v_max)"
   ]
  },
  {
   "cell_type": "code",
   "execution_count": 4,
   "metadata": {},
   "outputs": [
    {
     "name": "stdout",
     "output_type": "stream",
     "text": [
      "f from the product of M and v_max = 4.830043768468987\n",
      "The largest (absolute value) eigenvalue = -4.830043768468989\n"
     ]
    },
    {
     "data": {
      "image/png": "[encoded data removed]",
      "text/plain": [
       "<Figure size 432x288 with 1 Axes>"
      ]
     },
     "metadata": {
      "needs_background": "light"
     },
     "output_type": "display_data"
    }
   ],
   "source": [
    "f_max = abs(v_max.dot(M).dot(v_max))\n",
    "print('f from the product of M and v_max = ' + str(f_max))\n",
    "print('The largest (absolute value) eigenvalue = ' + str(lm_max))\n",
    "\n",
    "num_v = 500\n",
    "#  随机建立多个归一化向量\n",
    "vecs = np.random.randn(num_v, dim)\n",
    "vecs = np.einsum('na,n->na', vecs, 1/np.linalg.norm(vecs, axis=1))\n",
    "# 计算每个向量的f\n",
    "f = abs(np.einsum('na,ab,nb->n', vecs, M, vecs.conj()))\n",
    "\n",
    "# 画图展示由最大本征值给出的\n",
    "x = np.arange(num_v)\n",
    "y = np.ones(num_v, ) * f_max\n",
    "plt.plot(x, y, '--')\n",
    "plt.plot(x, f)\n",
    "plt.show()\n"
   ]
  },
  {
   "cell_type": "code",
   "execution_count": 5,
   "metadata": {},
   "outputs": [
    {
     "name": "stdout",
     "output_type": "stream",
     "text": [
      "The dominant eigenvalue and eigenvector by eigs:\n",
      "[-4.83004377+0.j]\n",
      "[ 0.13390826+0.j -0.32371695+0.j  0.17090423+0.j  0.92090589+0.j]\n",
      "\n",
      "The dominant eigenvalue and eigenvector by eig:\n",
      "-4.830043768468989\n",
      "[-0.13390826  0.32371695 -0.17090423 -0.92090589]\n"
     ]
    }
   ],
   "source": [
    "# 使用scipy中的eigs仅求最大几个本征值与本征向量，节省计算量\n",
    "import scipy.sparse.linalg as la\n",
    "\n",
    "lm1, v1 = la.eigs(M, k=1, which='LM')\n",
    "print('The dominant eigenvalue and eigenvector by eigs:')\n",
    "print(lm1)\n",
    "print(v1.reshape(-1, ))\n",
    "\n",
    "print('\\nThe dominant eigenvalue and eigenvector by eig:')\n",
    "print(lm_max)\n",
    "print(v_max.reshape(-1, ))"
   ]
  },
  {
   "cell_type": "code",
   "execution_count": 6,
   "metadata": {},
   "outputs": [],
   "source": [
    "def eig0(mat, it_time=100, tol=1e-15):\n",
    "    \"\"\"\n",
    "    :param mat: 输入矩阵（实对称阵）\n",
    "    :param it_time: 最大迭代步数\n",
    "    :param tol: 收敛阈值\n",
    "    :return lm: （绝对值）最大本征值\n",
    "    :return v1: 最大本征向量\n",
    "    \"\"\"\n",
    "    # 初始化向量\n",
    "    v1 = np.random.randn(mat.shape[0],)\n",
    "    v0 = copy.deepcopy(v1)\n",
    "    lm = 1\n",
    "    for n in range(it_time):  # 开始循环迭代\n",
    "        v1 = mat.dot(v0)  # 计算v1 = M V0\n",
    "        lm = np.linalg.norm(v1)  # 求本征值\n",
    "        v1 /= lm  # 归一化v1\n",
    "        # 判断收敛\n",
    "        conv = np.linalg.norm(v1 - v0)\n",
    "        if conv < tol:\n",
    "            break\n",
    "        else:\n",
    "            v0 = copy.deepcopy(v1)\n",
    "    return lm, v1"
   ]
  },
  {
   "cell_type": "code",
   "execution_count": 7,
   "metadata": {},
   "outputs": [
    {
     "name": "stdout",
     "output_type": "stream",
     "text": [
      "\n",
      "The dominant eigenvalue and eigenvector by the iterative method:\n",
      "4.830043768468986\n",
      "[ 0.13390826 -0.32371695  0.17090423  0.92090589]\n"
     ]
    }
   ],
   "source": [
    "lm2, v2 = eig0(M)\n",
    "\n",
    "print('\\nThe dominant eigenvalue and eigenvector by the iterative method:')\n",
    "print(lm2)\n",
    "print(v2.reshape(-1, ))"
   ]
  }
 ],
 "metadata": {
  "kernelspec": {
   "display_name": "Python 3",
   "language": "python",
   "name": "python3"
  },
  "language_info": {
   "codemirror_mode": {
    "name": "ipython",
    "version": 3
   },
   "file_extension": ".py",
   "mimetype": "text/x-python",
   "name": "python",
   "nbconvert_exporter": "python",
   "pygments_lexer": "ipython3",
   "version": "3.8.2"
  }
 },
 "nbformat": 4,
 "nbformat_minor": 4
}
