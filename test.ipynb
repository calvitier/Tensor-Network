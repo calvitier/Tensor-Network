{
 "metadata": {
  "language_info": {
   "codemirror_mode": {
    "name": "ipython",
    "version": 3
   },
   "file_extension": ".py",
   "mimetype": "text/x-python",
   "name": "python",
   "nbconvert_exporter": "python",
   "pygments_lexer": "ipython3",
   "version": "3.8.3-final"
  },
  "orig_nbformat": 2,
  "kernelspec": {
   "name": "python3",
   "display_name": "Python 3",
   "language": "python"
  }
 },
 "nbformat": 4,
 "nbformat_minor": 2,
 "cells": [
  {
   "cell_type": "code",
   "execution_count": 1,
   "metadata": {},
   "outputs": [],
   "source": [
    "import numpy as np\n",
    "import copy\n",
    "import cv2\n",
    "import Operator as op\n",
    "import MPS\n",
    "from scipy.linalg import expm"
   ]
  },
  {
   "cell_type": "code",
   "execution_count": 25,
   "metadata": {},
   "outputs": [
    {
     "output_type": "execute_result",
     "data": {
      "text/plain": [
       "int"
      ]
     },
     "metadata": {},
     "execution_count": 25
    }
   ],
   "source": [
    "type(-1)"
   ]
  },
  {
   "cell_type": "code",
   "execution_count": 24,
   "metadata": {},
   "outputs": [
    {
     "output_type": "execute_result",
     "data": {
      "text/plain": [
       "2.0"
      ]
     },
     "metadata": {},
     "execution_count": 24
    }
   ],
   "source": [
    "a = np.array((1, 4, 16))\n",
    "np.sqrt(4)"
   ]
  },
  {
   "cell_type": "code",
   "execution_count": 16,
   "metadata": {},
   "outputs": [
    {
     "output_type": "stream",
     "name": "stdout",
     "text": [
      "(44.772157672149305+26.741774666677557j)\n"
     ]
    }
   ],
   "source": [
    "a = np.random.rand(5, 4) + 1j*np.random.rand(5, 4)\n",
    "b = np.random.rand(5, 6) + 1j*np.random.rand(5, 6)\n",
    "c = np.random.rand(4, 6) + 1j*np.random.rand(4, 6)\n",
    "d = np.einsum('ij, ik, jk->', a.conj(), b, c)\n",
    "print(d)"
   ]
  },
  {
   "cell_type": "code",
   "execution_count": 13,
   "metadata": {},
   "outputs": [
    {
     "output_type": "stream",
     "name": "stdout",
     "text": [
      "-1j\n1j\n"
     ]
    }
   ],
   "source": [
    "a = np.array((1j, 1j, -1j))\n",
    "b = np.ones((3, ), complex)\n",
    "print(np.inner(a.conj(), b))\n",
    "print(b.conj().dot(a))"
   ]
  },
  {
   "cell_type": "code",
   "execution_count": 22,
   "metadata": {},
   "outputs": [
    {
     "output_type": "stream",
     "name": "stdout",
     "text": [
      "[1, 1]\nFalse\nTrue\n"
     ]
    }
   ],
   "source": [
    "a = list()\n",
    "a += [1]\n",
    "a += [1]\n",
    "b = list([1])\n",
    "c = list([1, 1])\n",
    "print(a)\n",
    "print(a == b)\n",
    "print(a == c)"
   ]
  },
  {
   "cell_type": "code",
   "execution_count": 8,
   "metadata": {},
   "outputs": [
    {
     "output_type": "execute_result",
     "data": {
      "text/plain": [
       "array([3.55271368e-15+0.j, 2.22044605e-15+0.j, 3.99680289e-15+0.j,\n",
       "       0.00000000e+00+0.j])"
      ]
     },
     "metadata": {},
     "execution_count": 8
    }
   ],
   "source": [
    "n = 4\n",
    "x = np.random.rand(n, n)\n",
    "lm, u = np.linalg.eig(x)\n",
    "y = expm(x)\n",
    "y.dot(u[:, 0]) - np.exp(lm[0]) * u[:, 0]"
   ]
  },
  {
   "cell_type": "code",
   "execution_count": 6,
   "metadata": {},
   "outputs": [],
   "source": [
    "H = op.heisenberg_hamilt([1, 1, 1], [0, 0, 0])"
   ]
  },
  {
   "cell_type": "code",
   "execution_count": 7,
   "metadata": {},
   "outputs": [
    {
     "output_type": "execute_result",
     "data": {
      "text/plain": [
       "(5, 5)"
      ]
     },
     "metadata": {},
     "execution_count": 7
    }
   ],
   "source": [
    "np.eye(5).shape"
   ]
  },
  {
   "cell_type": "code",
   "execution_count": 27,
   "metadata": {},
   "outputs": [
    {
     "output_type": "execute_result",
     "data": {
      "text/plain": [
       "[array([[ 0.40546271, -0.69332432,  2.17406672,  0.34974543, -1.30724465,\n",
       "         -0.79572883,  0.25081361,  0.81239696,  1.78597447, -0.73248901],\n",
       "        [-1.64579989,  3.43089691, -0.84126952, -3.1285051 ,  0.40916993,\n",
       "         -1.2847216 ,  0.23056104, -0.68677563, -0.03178259, -0.43860714],\n",
       "        [ 1.48603256, -1.08871559, -2.22028878, -1.47654325,  2.2859844 ,\n",
       "          0.63503339, -0.9322233 , -1.07560516, -1.55341411,  1.53023037],\n",
       "        [-1.2499927 ,  0.71936781, -2.74751721,  0.44172026,  1.08001836,\n",
       "         -0.97156216, -1.31925107,  0.25844788,  1.89427373, -1.04393268]]),\n",
       " array([[[ 1.38266830e+00, -4.58977136e-01,  2.61647597e-01,\n",
       "          -2.04463046e+00,  1.16586822e+00,  1.25143665e+00,\n",
       "          -1.00605427e+00,  6.73109815e-01,  6.78206609e-01,\n",
       "           3.44762096e-01],\n",
       "         [-1.56225901e+00, -2.33589426e-01,  1.18774754e+00,\n",
       "          -9.30265779e-02, -6.07850929e-01,  5.21504033e-01,\n",
       "           1.02413273e+00,  1.94958206e+00, -1.35331901e-01,\n",
       "           6.78131124e-01],\n",
       "         [-2.91447541e-01, -9.28637668e-01,  1.92564267e-01,\n",
       "           4.00213074e-01, -3.39063791e+00, -1.59596839e+00,\n",
       "           4.69684228e-01,  2.81787031e-01, -3.57502707e-02,\n",
       "          -1.82260264e+00],\n",
       "         [-9.99835210e-02, -7.55771879e-01, -2.33371567e-01,\n",
       "          -2.58068899e-01, -2.24059978e+00, -5.31988635e-01,\n",
       "          -2.10002037e-03, -5.31135552e-01, -2.52905431e+00,\n",
       "           5.42594233e-02]],\n",
       " \n",
       "        [[ 9.07832161e-01, -3.32609441e-01,  2.18875150e+00,\n",
       "           1.15033353e+00,  1.96047175e+00, -2.32341758e+00,\n",
       "           1.80827876e+00,  4.15180600e-01,  1.18632522e+00,\n",
       "           4.91670132e-01],\n",
       "         [-6.21749877e-01, -4.48718066e-01,  6.02701977e-01,\n",
       "          -4.81942813e-01, -4.02116293e-01,  3.43607647e+00,\n",
       "          -1.22441737e+00,  1.28858243e+00,  7.51916703e-01,\n",
       "          -1.40837409e+00],\n",
       "         [-8.63329573e-01, -7.98587339e-01, -2.12890973e-01,\n",
       "           1.24190715e+00,  1.18504422e+00, -5.17317341e-01,\n",
       "           9.40340220e-01, -6.31088810e-01,  1.38240871e+00,\n",
       "          -3.78297768e+00],\n",
       "         [-8.55520604e-01,  3.61886549e-01,  2.15517254e+00,\n",
       "           1.99401956e+00, -2.37517227e+00,  7.85231904e-01,\n",
       "           1.02928531e+00,  1.96702193e+00, -1.78035885e+00,\n",
       "           2.35812681e-01]],\n",
       " \n",
       "        [[ 1.72390290e+00, -4.07971487e-02, -1.39060296e-01,\n",
       "           1.62026292e+00, -3.37507974e-01, -3.10827539e+00,\n",
       "          -6.61615867e-02,  1.51551669e+00,  6.51337893e-01,\n",
       "           1.06162457e+00],\n",
       "         [ 1.54714618e+00,  4.91395520e-01, -1.57411464e-01,\n",
       "          -3.83448718e-01,  1.55647912e+00,  5.19269158e-01,\n",
       "          -2.04907478e-01,  1.19007361e+00,  9.72916890e-01,\n",
       "          -1.40877365e+00],\n",
       "         [-1.43650200e+00, -6.65451874e-01, -2.15951379e+00,\n",
       "           4.78967356e-01,  1.48402660e+00, -2.86061760e-01,\n",
       "          -6.26469352e-01,  3.09966403e-01,  3.04863165e-01,\n",
       "          -1.05037686e+00],\n",
       "         [-3.53849510e-01, -2.56372722e+00, -1.50562606e+00,\n",
       "          -6.89208217e-01,  8.12242300e-02, -3.92679188e+00,\n",
       "           8.30418799e-02, -1.38260614e+00,  2.09738615e+00,\n",
       "          -1.53899754e+00]],\n",
       " \n",
       "        [[-1.30454442e+00, -1.95852844e+00, -2.08930426e+00,\n",
       "          -6.89137502e-01,  1.90637311e-01,  2.62601920e-01,\n",
       "          -2.25832547e+00, -7.09822960e-01, -3.21404663e-01,\n",
       "           9.02733667e-01],\n",
       "         [-6.40287975e-01, -6.32890750e-01, -9.26768019e-01,\n",
       "           1.06445445e+00, -1.13497411e-01, -8.01824172e-01,\n",
       "           2.84251848e+00,  4.08705081e-01,  5.59007883e-01,\n",
       "          -5.64085938e-01],\n",
       "         [-1.98653703e+00, -1.75539181e-01,  1.10153769e+00,\n",
       "          -1.02758920e+00, -6.73618648e-01,  3.61531800e+00,\n",
       "          -1.93597782e+00,  7.29984391e-01, -5.01341189e-02,\n",
       "          -1.80653961e+00],\n",
       "         [ 1.05932738e+00,  4.48026804e-01,  6.38028417e-01,\n",
       "          -1.38015426e+00, -2.90499586e-01,  1.40542084e+00,\n",
       "           6.26604397e-01,  1.22720567e+00,  1.47473098e+00,\n",
       "           7.38694304e-01]],\n",
       " \n",
       "        [[-2.01573709e-01,  9.00003243e-01, -1.85695838e+00,\n",
       "           6.37336933e-01,  1.50924452e+00,  1.90333950e+00,\n",
       "          -1.05264654e+00, -1.18388284e+00,  1.97046338e+00,\n",
       "           1.08982804e+00],\n",
       "         [ 3.53201106e+00,  1.07621795e-01, -1.02534432e+00,\n",
       "          -2.06970435e+00, -8.41231604e-01,  6.87077472e-01,\n",
       "          -2.79939414e+00, -7.72977757e-01, -6.51600703e-01,\n",
       "          -1.45000437e+00],\n",
       "         [-1.22534944e+00, -8.85412853e-01,  9.62392283e-02,\n",
       "           7.79841883e-01, -1.26476629e+00, -4.36310119e-02,\n",
       "          -7.16951704e-01, -2.68988745e+00,  2.15219622e+00,\n",
       "           2.34794991e+00],\n",
       "         [-7.11128845e-01,  1.12380618e+00, -1.21664794e+00,\n",
       "          -7.12752671e-02,  9.48073033e-02, -1.14786373e+00,\n",
       "          -8.88422081e-01,  6.36640406e-01, -2.19083825e+00,\n",
       "          -1.79369876e+00]],\n",
       " \n",
       "        [[ 7.94042313e-02,  1.52179942e+00,  5.27451515e-01,\n",
       "           4.58933752e-01,  2.83981042e-01, -9.00989098e-01,\n",
       "          -6.76344698e-01, -1.54969240e+00, -5.69685518e-01,\n",
       "          -1.54049072e+00],\n",
       "         [-1.22789111e+00, -6.95997483e-01,  4.45745158e-01,\n",
       "          -3.16249076e-01, -1.38376198e+00, -1.22141911e-01,\n",
       "          -2.55015383e+00, -8.80302225e-01,  3.88413273e-01,\n",
       "          -2.43986667e+00],\n",
       "         [ 3.38830861e-01, -8.20040319e-01, -7.34912434e-01,\n",
       "          -4.86034294e-01, -1.95758623e+00,  5.29440103e-02,\n",
       "          -7.19326592e-01, -1.35295828e+00, -2.03216122e-01,\n",
       "          -1.02061366e+00],\n",
       "         [ 5.32940302e-01, -8.49570770e-01, -2.16798700e-01,\n",
       "          -1.27125090e+00,  3.03065489e+00, -1.32774950e+00,\n",
       "           7.67222296e-03, -6.58394142e-01,  6.57864556e-01,\n",
       "          -2.01157044e+00]],\n",
       " \n",
       "        [[ 5.29442988e-01, -2.22091213e+00,  3.74152040e-01,\n",
       "          -4.76814025e-01,  2.01388732e+00, -4.22887069e-02,\n",
       "           2.49783438e+00,  8.07859596e-01,  2.48846441e-01,\n",
       "          -2.44694849e+00],\n",
       "         [ 1.80466074e+00,  6.54183136e-01, -2.64864683e+00,\n",
       "           2.61106939e+00, -1.11975163e+00,  1.07294788e-01,\n",
       "           1.93903768e+00, -7.38143222e-01,  2.03957110e+00,\n",
       "          -8.24674083e-01],\n",
       "         [-2.34243112e+00,  2.01042762e-01,  1.71641609e+00,\n",
       "           3.27974661e+00,  4.68977985e-03,  1.10551196e+00,\n",
       "          -1.32714957e+00, -1.60765050e-01,  7.21273722e-01,\n",
       "           6.19316147e-01],\n",
       "         [-1.63473135e+00,  1.76431189e+00,  9.58147915e-01,\n",
       "          -1.10923688e+00, -2.10254719e+00,  1.50943046e+00,\n",
       "          -3.34899600e-01,  1.40083656e+00,  7.11597889e-01,\n",
       "          -1.49454878e+00]],\n",
       " \n",
       "        [[-9.80698274e-01,  1.11237564e+00, -6.82792237e-01,\n",
       "           3.12130482e+00, -2.74655099e+00,  8.74215039e-01,\n",
       "          -1.49144161e+00,  4.95876136e-01, -2.51874077e+00,\n",
       "          -1.09485272e+00],\n",
       "         [-2.90957788e-01,  1.19406168e+00, -1.46000057e+00,\n",
       "          -9.10270405e-01, -9.10013713e-01,  1.39566494e+00,\n",
       "           3.29268985e+00,  6.64761462e-01,  1.07936832e+00,\n",
       "          -3.29393907e-01],\n",
       "         [-3.19678164e-01,  2.50165499e-01,  1.45761076e+00,\n",
       "          -2.11235202e+00,  1.69721310e+00, -1.04880998e+00,\n",
       "          -8.24658633e-01,  6.02449212e-01,  8.27619779e-01,\n",
       "           2.92531007e-02],\n",
       "         [-8.19246228e-02,  2.91310020e+00, -9.85325093e-01,\n",
       "          -5.19093804e-03, -2.97152876e-01, -5.08364563e-01,\n",
       "           5.00197984e-01,  9.33531500e-01, -1.42214589e+00,\n",
       "           2.40378823e-01]],\n",
       " \n",
       "        [[-9.54565413e-01,  1.22406296e+00, -9.83090101e-02,\n",
       "           6.18452412e-01,  1.75885505e+00, -4.99420845e-01,\n",
       "           1.22010892e+00, -6.41210142e-01, -1.01067888e+00,\n",
       "           9.21731684e-01],\n",
       "         [-2.45409175e+00,  1.64782744e-02,  4.71978102e-01,\n",
       "           6.00005475e-01, -8.23427724e-01,  1.08689967e+00,\n",
       "          -9.53004523e-01,  1.68101152e+00,  1.15565600e+00,\n",
       "          -6.96027841e-01],\n",
       "         [-8.80108018e-01, -1.19938802e+00, -6.89815669e-01,\n",
       "           3.12798854e-01,  5.52546641e-01, -7.80343131e-01,\n",
       "           7.72145598e-01,  1.21348959e-01, -2.08910712e+00,\n",
       "           1.19281209e+00],\n",
       "         [ 1.19026874e+00,  1.34762307e-02,  9.57396106e-01,\n",
       "           1.01904755e+00, -3.00652377e+00,  4.78637685e-01,\n",
       "          -3.70908704e-01,  5.95345892e-01, -3.44568886e+00,\n",
       "           3.03191941e-01]],\n",
       " \n",
       "        [[ 6.94129303e-01,  1.28571188e+00, -2.08861205e-01,\n",
       "           2.19228228e+00,  1.88665823e+00,  2.72737976e+00,\n",
       "          -6.84470645e-01,  3.75851019e-01,  4.20912425e-01,\n",
       "          -6.70898655e-01],\n",
       "         [-5.99866017e-01,  1.21895231e+00,  1.54064894e-01,\n",
       "           3.57261536e-01,  2.27150999e-01,  2.50083804e+00,\n",
       "          -1.88444488e-02, -1.43227874e+00, -1.39808643e+00,\n",
       "           7.74133516e-01],\n",
       "         [-5.03024302e-01, -7.95854108e-01,  7.90449911e-01,\n",
       "          -2.75817597e-01,  8.38963631e-01,  1.64503094e-01,\n",
       "           4.13227572e-01,  7.18273284e-02,  2.48908914e-01,\n",
       "           6.50987436e-01],\n",
       "         [ 5.88687999e-01, -1.31205580e+00,  1.39357286e-01,\n",
       "          -8.78617486e-01, -1.95537863e+00,  1.54698251e+00,\n",
       "           1.46437598e+00,  9.82158490e-02,  3.97593122e+00,\n",
       "           7.13273354e-01]]]),\n",
       " array([[[ 4.06587648e-01,  8.80307754e-01,  2.72197079e+00,\n",
       "           1.25212588e+00, -1.98576052e+00,  1.75928078e-01,\n",
       "          -1.39985261e-01, -2.31216323e+00,  2.00862404e+00,\n",
       "          -2.00874409e+00],\n",
       "         [-5.13175447e-01,  1.00745050e+00,  1.82286462e+00,\n",
       "          -1.55067784e+00, -1.35437159e+00,  1.13448935e+00,\n",
       "          -1.77387535e-01,  1.65094459e+00,  6.33416305e-01,\n",
       "           1.93825524e+00],\n",
       "         [-1.40142060e+00, -9.28152193e-02, -2.35379157e-01,\n",
       "           7.41713709e-01, -7.10636893e-01,  6.44494709e-01,\n",
       "           5.42964660e-01,  1.47763067e-01,  9.73531122e-01,\n",
       "          -2.99058976e-01],\n",
       "         [-1.21345601e+00,  1.32670283e+00, -2.67898691e+00,\n",
       "          -1.14075994e+00, -3.06189452e+00,  5.37589096e-01,\n",
       "           2.77194649e+00,  1.31982750e+00, -1.01794952e+00,\n",
       "           1.64556338e-01]],\n",
       " \n",
       "        [[ 1.43916539e+00, -6.96829329e-02,  1.28658478e+00,\n",
       "          -6.41085815e-01, -1.29631109e+00, -9.58022856e-01,\n",
       "          -1.77777608e-01,  5.00371552e-01,  1.31770838e+00,\n",
       "           1.13101352e+00],\n",
       "         [-1.29810868e-01, -2.26262129e-02, -2.36657092e+00,\n",
       "          -2.34053294e-01, -9.18563678e-01,  7.66124725e-01,\n",
       "          -3.78940993e-01, -7.49135177e-01, -9.81486434e-01,\n",
       "           1.53883693e+00],\n",
       "         [ 1.73719364e+00,  8.22416945e-01, -2.20340935e+00,\n",
       "          -6.15426893e-01, -9.35444322e-01,  1.19106107e+00,\n",
       "           5.19885723e-01,  2.22728221e+00,  2.39167226e+00,\n",
       "          -6.92554865e-01],\n",
       "         [-2.83676539e-01,  1.75438195e+00, -1.79466996e+00,\n",
       "           1.27012479e+00,  1.22422197e+00,  4.58082809e-01,\n",
       "          -2.37792713e+00, -5.60247968e-01,  6.66731480e-01,\n",
       "           4.06584052e-01]],\n",
       " \n",
       "        [[-6.08287767e-01,  2.65837284e+00,  7.57779510e-01,\n",
       "           1.30451523e+00, -1.90076033e-01,  1.29733420e+00,\n",
       "           2.26749285e+00,  1.25910605e+00, -6.26138565e-02,\n",
       "          -3.95861824e-01],\n",
       "         [-1.24102852e+00,  8.89459813e-01, -4.82801029e-01,\n",
       "          -1.53398025e+00,  8.22215280e-01, -3.57267794e-01,\n",
       "          -2.44566711e+00, -1.97645295e-01, -9.76598610e-02,\n",
       "          -2.02909977e-01],\n",
       "         [ 2.85417003e+00, -1.00820470e+00, -3.56838364e-01,\n",
       "           3.95046877e+00, -2.96472528e-01, -1.77844632e-01,\n",
       "           1.19895162e+00, -1.11023387e+00,  1.00501003e+00,\n",
       "          -1.42794000e+00],\n",
       "         [ 1.63463589e+00, -2.26894316e+00,  1.38248524e+00,\n",
       "          -4.21265474e-01,  1.14183355e+00,  6.99238590e-01,\n",
       "          -1.90002743e+00, -1.27826763e-01,  1.23583508e+00,\n",
       "           3.76703637e-01]],\n",
       " \n",
       "        [[-6.93415103e-01,  3.80410504e-01,  2.67785699e+00,\n",
       "          -7.13609421e-02,  2.24388968e+00, -2.38228359e+00,\n",
       "           1.19360519e+00, -6.36464753e-01, -1.41725415e+00,\n",
       "           5.80497639e-01],\n",
       "         [ 2.42003229e-02, -7.78705623e-01,  1.96054076e+00,\n",
       "           2.02206811e-01,  1.55867407e+00,  1.21844041e-02,\n",
       "           2.20129387e+00, -1.58719352e+00, -3.25265725e+00,\n",
       "           2.01438976e+00],\n",
       "         [-8.77319866e-01, -1.70463210e+00, -2.82475639e-01,\n",
       "          -1.23847478e+00,  2.12018688e+00,  2.12011286e-01,\n",
       "           2.85077974e-01, -1.23577550e+00, -6.83004767e-01,\n",
       "          -1.58354912e-02],\n",
       "         [ 8.87037914e-01,  1.38416657e+00,  2.47651746e+00,\n",
       "           7.48915628e-01, -2.50572844e-01,  1.58434192e-01,\n",
       "           7.05783229e-01,  2.41906320e-02,  1.07721318e+00,\n",
       "          -2.39345510e-01]],\n",
       " \n",
       "        [[ 1.32544582e-01, -4.03778232e-01, -7.29814764e-01,\n",
       "          -2.45533754e+00,  7.45517146e-02, -1.76808556e+00,\n",
       "           9.79604510e-01,  5.82849545e-01, -1.24312517e+00,\n",
       "           2.48380577e+00],\n",
       "         [-5.74593896e-02, -2.31833570e-01, -1.46941453e+00,\n",
       "          -8.58505475e-01, -1.38155333e+00, -5.13932970e-01,\n",
       "          -1.80319487e-01, -1.05709511e+00, -5.09288713e-01,\n",
       "          -1.11297683e-01],\n",
       "         [-7.30334446e-01,  1.48730388e+00, -3.12163203e+00,\n",
       "           2.68497070e+00,  6.78555802e-01, -1.79420145e+00,\n",
       "          -1.41087318e-01,  6.10000836e-01, -1.89630651e+00,\n",
       "          -7.35724876e-01],\n",
       "         [-1.01795502e+00, -1.60262107e+00, -1.79652482e+00,\n",
       "          -2.64544562e-01,  5.09937328e-01, -3.04609723e+00,\n",
       "          -1.63491797e+00, -1.73699582e+00,  1.72207825e-01,\n",
       "           4.41963293e-01]],\n",
       " \n",
       "        [[-8.50924258e-01,  5.28191214e-01, -1.13531671e+00,\n",
       "          -3.54978221e-01,  4.52644361e-01, -3.03776993e+00,\n",
       "          -2.00919903e+00, -8.80369542e-01, -5.64987602e-01,\n",
       "           4.72070726e-01],\n",
       "         [ 3.23340048e+00, -1.83010076e+00, -9.64850689e-01,\n",
       "          -1.37326729e+00, -3.62033642e-01,  5.47753060e-01,\n",
       "           3.08233014e+00, -1.75426763e+00,  2.49187305e-01,\n",
       "           6.13972886e-01],\n",
       "         [-9.80639701e-01, -1.03211210e+00, -2.47475384e+00,\n",
       "           7.54917858e-01, -6.60231054e-01, -2.53537114e+00,\n",
       "           6.37441726e-01,  2.28640615e-01, -1.77656580e+00,\n",
       "          -1.62798043e+00],\n",
       "         [ 5.76497730e-01,  1.48317407e+00,  5.10196927e-01,\n",
       "           3.97089565e-01,  2.56641146e-01, -1.84073652e+00,\n",
       "          -2.44402633e+00,  2.30467727e-02, -1.17613882e+00,\n",
       "           1.31861830e+00]],\n",
       " \n",
       "        [[-3.72276866e-01,  2.20076201e-01,  4.66956707e-01,\n",
       "          -1.05807732e-03,  1.48082586e+00, -7.04931939e-03,\n",
       "          -1.19817108e-01,  1.03663256e+00, -1.26864268e+00,\n",
       "           2.29113174e+00],\n",
       "         [-1.28859808e+00, -2.69564482e+00, -2.53501154e+00,\n",
       "          -1.13187616e-01, -1.27985247e+00,  2.59125986e+00,\n",
       "          -8.91023282e-02,  4.44471806e-01,  4.52626460e-01,\n",
       "           9.97058537e-01],\n",
       "         [-4.23168140e+00, -1.09713128e+00, -6.08232369e-02,\n",
       "          -8.20266459e-01,  1.19868178e+00, -1.80492471e-02,\n",
       "          -1.22883287e-01, -8.99200880e-01,  5.98088838e-01,\n",
       "          -1.43380480e+00],\n",
       "         [-1.33018959e+00,  4.86866328e-02,  1.21883639e+00,\n",
       "           2.01484497e+00,  3.66297421e-01, -1.42512082e+00,\n",
       "          -1.53054290e+00, -1.76206509e-01, -8.62422748e-01,\n",
       "          -3.93238358e-01]],\n",
       " \n",
       "        [[ 7.76924786e-01, -4.38314084e-02, -1.20486944e+00,\n",
       "          -6.98713452e-01, -1.57688811e+00, -3.59612735e-01,\n",
       "          -7.57747352e-01,  1.79168075e+00, -1.30029506e+00,\n",
       "          -1.82323540e+00],\n",
       "         [-1.05614692e+00,  1.81919859e+00,  3.88477668e-01,\n",
       "          -2.17988382e+00,  4.45639425e+00,  5.25313543e-01,\n",
       "           5.68976701e-01,  2.74026466e+00, -1.25903615e+00,\n",
       "          -1.24813162e+00],\n",
       "         [ 2.16828754e+00, -2.10248876e+00, -2.52148745e+00,\n",
       "          -6.02516163e-01,  6.78344722e-01, -4.47044889e-01,\n",
       "          -3.08697320e+00, -3.62266054e-01,  3.64487467e-01,\n",
       "           1.46011337e+00],\n",
       "         [ 3.05765754e-01,  2.49674343e+00, -8.72661028e-01,\n",
       "           4.46385910e-01,  8.49431840e-01, -1.08681287e+00,\n",
       "          -1.07415095e+00,  3.94792265e-01, -1.35957826e-01,\n",
       "           8.71992255e-01]],\n",
       " \n",
       "        [[ 1.36151143e+00, -1.63130397e+00,  2.15823778e+00,\n",
       "           2.16212452e+00, -5.05826518e-01,  1.54354287e+00,\n",
       "           1.17881634e+00,  6.97777161e-01, -2.88797055e+00,\n",
       "          -1.97205918e-01],\n",
       "         [-6.07465044e-01, -3.94538939e-02, -8.30007578e-01,\n",
       "          -1.47604368e+00,  2.10915349e+00, -1.37109664e-01,\n",
       "          -4.85597805e-01, -2.02414107e+00,  2.18982775e+00,\n",
       "           8.76125657e-01],\n",
       "         [ 6.91038154e-01,  4.25293317e-01,  6.96200376e-01,\n",
       "          -7.69560554e-01,  6.79366365e-01,  2.31354011e+00,\n",
       "           2.72972825e-02, -2.42542969e+00,  1.52614134e+00,\n",
       "          -7.05681598e-01],\n",
       "         [ 5.56226274e-01, -7.57760095e-01, -1.90042538e-01,\n",
       "          -9.07655293e-01,  2.52684665e+00, -1.44135842e+00,\n",
       "           2.01303051e+00, -5.44463887e-01, -1.71683795e-01,\n",
       "          -9.05507923e-01]],\n",
       " \n",
       "        [[-2.79658023e-01, -1.49792558e+00, -1.87947488e+00,\n",
       "           1.41479670e+00, -2.17537288e-01, -4.45688408e-01,\n",
       "           2.15590083e-01, -1.58915502e+00,  6.06283333e-01,\n",
       "           1.41545316e+00],\n",
       "         [-3.56648771e-01, -1.29472307e+00, -1.10200659e+00,\n",
       "          -1.74741423e+00, -3.27456109e+00, -1.55860849e+00,\n",
       "           2.33005558e+00,  5.66945794e-01, -1.26774157e+00,\n",
       "          -4.61256098e-02],\n",
       "         [ 1.04850882e+00, -7.69785401e-01,  8.04201404e-02,\n",
       "          -1.47788624e+00, -1.14494230e+00,  1.89276653e+00,\n",
       "           1.36307880e+00, -1.82868664e+00, -1.48787200e+00,\n",
       "           1.80387475e+00],\n",
       "         [-3.46038547e-01,  1.22402803e-01, -2.47377451e+00,\n",
       "          -1.20608270e+00, -5.11334979e-02,  1.19550297e+00,\n",
       "           1.44577599e+00, -2.52505284e+00, -1.66082894e+00,\n",
       "          -2.38401012e+00]]]),\n",
       " array([[ 0.48689623, -1.88865215,  0.1092703 , -1.10570838],\n",
       "        [-1.78286003,  0.76779311,  0.17753743, -0.02903153],\n",
       "        [-1.17107741,  0.28079715, -0.84605057,  1.88263507],\n",
       "        [ 2.55589495,  0.62982673, -0.6863591 , -0.19761904],\n",
       "        [-0.64465768, -2.31548529, -1.64037914, -0.23792576],\n",
       "        [-1.59203615, -0.06737691, -0.41287548,  1.84597695],\n",
       "        [ 0.55036071, -0.67024095, -2.86729197,  1.01604597],\n",
       "        [ 0.47833413,  0.75408744, -3.26824515,  1.31199919],\n",
       "        [ 2.10721644,  2.23955962,  0.14725088, -0.98637778],\n",
       "        [ 0.51862238, -0.21797382, -1.5483457 , -2.19009173]])]"
      ]
     },
     "metadata": {},
     "execution_count": 27
    }
   ],
   "source": [
    "x = MPS.mps.init_rand(d = 4, chi = 10, length = 4)\n",
    "y = MPS.mps.init_rand(d = 4, chi = 10, length = 4)\n",
    "(x-y).tensors"
   ]
  },
  {
   "cell_type": "code",
   "execution_count": 2,
   "metadata": {},
   "outputs": [
    {
     "output_type": "stream",
     "name": "stdout",
     "text": [
      "[10, 10, 10]\n(4, 10) (10, 4, 10) (10, 4, 10) (10, 4) \n [10, 10, 4]\n(4, 10) (10, 4, 10) (10, 4, 4) (4, 4) \n [10, 6, 4]\n(4, 10) (10, 4, 6) (6, 4, 4) (4, 4) \n [6, 6, 4]\n(4, 6) (6, 4, 6) (6, 4, 4) (4, 4) "
     ]
    }
   ],
   "source": [
    "x = MPS.mps(d = 4, chi = 10, length = 4)\n",
    "print(x.virtdim)\n",
    "for n in range(0,x.length):\n",
    "    print(x.tensors[n].shape,end=' ')\n",
    "x.orth_right2left(3, cut_dim = 6)\n",
    "print('\\n',x.virtdim)\n",
    "for n in range(0,x.length):\n",
    "    print(x.tensors[n].shape,end=' ')\n",
    "x.orth_right2left(2, cut_dim = 6)\n",
    "print('\\n',x.virtdim)\n",
    "for n in range(0,x.length):\n",
    "    print(x.tensors[n].shape,end=' ')\n",
    "x.orth_right2left(1, cut_dim = 6)\n",
    "print('\\n',x.virtdim)\n",
    "for n in range(0,x.length):\n",
    "    print(x.tensors[n].shape,end=' ')"
   ]
  },
  {
   "cell_type": "code",
   "execution_count": null,
   "metadata": {},
   "outputs": [],
   "source": []
  },
  {
   "cell_type": "code",
   "execution_count": 54,
   "metadata": {},
   "outputs": [
    {
     "output_type": "stream",
     "name": "stdout",
     "text": [
      "(4, 4) (4,) (4, 10)\n[4.28011706 4.0664482  1.99549077 1.38439236]\n"
     ]
    }
   ],
   "source": [
    "tensor = np.random.randn(4,10)\n",
    "u, lm, v = np.linalg.svd(tensor, full_matrices = False)\n",
    "print(u.shape,lm.shape,v.shape)\n",
    "print(lm)"
   ]
  },
  {
   "cell_type": "code",
   "execution_count": 55,
   "metadata": {},
   "outputs": [
    {
     "output_type": "stream",
     "name": "stdout",
     "text": [
      "(4, 10)\n"
     ]
    }
   ],
   "source": [
    "r = np.diag(lm[:cut_dim]).dot(v[:cut_dim, :])\n",
    "print(r.shape)"
   ]
  },
  {
   "cell_type": "code",
   "execution_count": 35,
   "metadata": {},
   "outputs": [
    {
     "output_type": "stream",
     "name": "stdout",
     "text": [
      "[[ 1.00000000e+00  2.15041635e-17  5.37260171e-17 -2.51014050e-16]\n [ 2.15041635e-17  1.00000000e+00  5.45546771e-16  3.23957377e-16]\n [ 5.37260171e-17  5.45546771e-16  1.00000000e+00 -4.30917071e-16]\n [-2.51014050e-16  3.23957377e-16 -4.30917071e-16  1.00000000e+00]]\n1.3516368858264404e-15\n"
     ]
    }
   ],
   "source": [
    "\n",
    "tensor0 = x.mps2tensor()\n",
    "x.center_orth(center = 0, cut_dim = -1)\n",
    "tensor = x.get_tensor(1)\n",
    "tensor = np.tensordot(tensor,tensor,[[1],[1]])\n",
    "print(tensor)\n",
    "err = np.linalg.norm(tensor - np.eye(4))\n",
    "print(err)\n"
   ]
  },
  {
   "cell_type": "code",
   "execution_count": 44,
   "metadata": {},
   "outputs": [
    {
     "output_type": "stream",
     "name": "stdout",
     "text": [
      "0.08169656741780812\n"
     ]
    }
   ],
   "source": [
    "y = MatrixProductState.OBCMPS(d = 2, chi = 10, length = 10)\n",
    "tensor0 = y.full_tensor()\n",
    "y.center_orthogonalization(5, way = 'svd', dc = 8, normalize = False)\n",
    "tensor = y.full_tensor()\n",
    "tensor = tensor/np.linalg.norm(tensor)\n",
    "tensor0 = tensor0/np.linalg.norm(tensor0)\n",
    "err = np.linalg.norm(tensor0 - tensor)\n",
    "print(err)"
   ]
  },
  {
   "cell_type": "code",
   "execution_count": 45,
   "metadata": {},
   "outputs": [
    {
     "output_type": "stream",
     "name": "stdout",
     "text": [
      "0.25929050308523316\n8.765864337006104e-16\n"
     ]
    }
   ],
   "source": [
    "x = MPS.mps(d = 2, chi = 10, length = 10)\n",
    "tensor0 = x.mps2tensor()\n",
    "x.center_orth(5, cut_dim = 8)\n",
    "tensor = x.mps2tensor()\n",
    "tensor = tensor/np.linalg.norm(tensor)\n",
    "tensor0 = tensor0/np.linalg.norm(tensor0)\n",
    "err = np.linalg.norm(tensor0 - tensor)\n",
    "print(err)\n",
    "x.center_orth(6, cut_dim = 8)\n",
    "tensor0 = x.mps2tensor()\n",
    "tensor = tensor/np.linalg.norm(tensor)\n",
    "tensor0 = tensor0/np.linalg.norm(tensor0)\n",
    "err = np.linalg.norm(tensor0 - tensor)\n",
    "print(err)"
   ]
  },
  {
   "cell_type": "code",
   "execution_count": 42,
   "metadata": {},
   "outputs": [
    {
     "output_type": "stream",
     "name": "stdout",
     "text": [
      "[[ 1.00000000e+00 -2.69715660e-17  3.00288612e-16  8.23604150e-17]\n [-2.69715660e-17  1.00000000e+00 -3.12383344e-16  9.92807591e-17]\n [ 3.00288612e-16 -3.12383344e-16  1.00000000e+00 -2.50022382e-16]\n [ 8.23604150e-17  9.92807591e-17 -2.50022382e-16  1.00000000e+00]]\n"
     ]
    }
   ],
   "source": [
    "x = MPS.mps(d = 4, chi = 10, length = 4)\n",
    "tensor0 = x.mps2tensor()\n",
    "x.center_orth(center = 1, cut_dim = 6)\n",
    "tensor = x.get_tensor(0)\n",
    "tensor = np.tensordot(tensor,tensor,[[0],[0]])\n",
    "print(tensor)"
   ]
  },
  {
   "cell_type": "code",
   "execution_count": 66,
   "metadata": {},
   "outputs": [
    {
     "output_type": "stream",
     "name": "stdout",
     "text": [
      "(4, 4)\n(4, 4, 6)\n(6, 4, 6)\n(6, 4)\n"
     ]
    }
   ],
   "source": [
    "x = MPS.mps(d = 4, chi = 10, length = 4)\n",
    "x.center_orth(center = x.length-1, cut_dim = 6)\n",
    "for n in range(0,x.length):\n",
    "    print(x.tensors[n].shape)"
   ]
  },
  {
   "cell_type": "code",
   "execution_count": 8,
   "metadata": {},
   "outputs": [
    {
     "output_type": "stream",
     "name": "stdout",
     "text": [
      "[[[ 0.46020161 -1.50716596]\n  [ 2.91081436  2.61212477]]\n\n [[ 0.73817045  1.27364669]\n  [-3.33875871 -1.14203851]]]\n"
     ]
    }
   ],
   "source": [
    "m = MPS.mps(2,2,3)\n",
    "# print(m.tensors)\n",
    "M = m.mps2tensor()\n",
    "print(M)"
   ]
  },
  {
   "cell_type": "code",
   "execution_count": 9,
   "metadata": {},
   "outputs": [
    {
     "output_type": "stream",
     "name": "stdout",
     "text": [
      "[ 0.46020161 -1.50716596  2.91081436  2.61212477  0.73817045  1.27364669\n -3.33875871 -1.14203851]\n"
     ]
    }
   ],
   "source": [
    "print(M.reshape((-1,)))"
   ]
  },
  {
   "cell_type": "code",
   "execution_count": 5,
   "metadata": {},
   "outputs": [
    {
     "output_type": "stream",
     "name": "stdout",
     "text": [
      "svd\n"
     ]
    }
   ],
   "source": [
    "str = 'SVD'\n",
    "str = str.lower()\n",
    "print(str)"
   ]
  },
  {
   "cell_type": "code",
   "execution_count": 8,
   "metadata": {},
   "outputs": [
    {
     "output_type": "execute_result",
     "data": {
      "text/plain": [
       "False"
      ]
     },
     "metadata": {},
     "execution_count": 8
    }
   ],
   "source": [
    "str=='a' or str=='b'"
   ]
  },
  {
   "cell_type": "code",
   "execution_count": 8,
   "metadata": {},
   "outputs": [
    {
     "output_type": "stream",
     "name": "stdout",
     "text": [
      "Shape of the image data = (294, 1151, 3)\n"
     ]
    },
    {
     "output_type": "display_data",
     "data": {
      "text/plain": "<Figure size 432x288 with 1 Axes>",
      "image/svg+xml": "<?xml version=\"1.0\" encoding=\"utf-8\" standalone=\"no\"?>\r\n<!DOCTYPE svg PUBLIC \"-//W3C//DTD SVG 1.1//EN\"\r\n  \"http://www.w3.org/Graphics/SVG/1.1/DTD/svg11.dtd\">\r\n<!-- Created with matplotlib (https://matplotlib.org/) -->\r\n<svg height=\"120.249889pt\" version=\"1.1\" viewBox=\"0 0 375.2875 120.249889\" width=\"375.2875pt\" xmlns=\"http://www.w3.org/2000/svg\" xmlns:xlink=\"http://www.w3.org/1999/xlink\">\r\n <metadata>\r\n  <rdf:RDF xmlns:cc=\"http://creativecommons.org/ns#\" xmlns:dc=\"http://purl.org/dc/elements/1.1/\" xmlns:rdf=\"http://www.w3.org/1999/02/22-rdf-syntax-ns#\">\r\n   <cc:Work>\r\n    <dc:type rdf:resource=\"http://purl.org/dc/dcmitype/StillImage\"/>\r\n    <dc:date>2020-12-12T09:44:02.124772</dc:date>\r\n    <dc:format>image/svg+xml</dc:format>\r\n    <dc:creator>\r\n     <cc:Agent>\r\n      <dc:title>Matplotlib v3.3.3, https://matplotlib.org/</dc:title>\r\n     </cc:Agent>\r\n    </dc:creator>\r\n   </cc:Work>\r\n  </rdf:RDF>\r\n </metadata>\r\n <defs>\r\n  <style type=\"text/css\">*{stroke-linecap:butt;stroke-linejoin:round;}</style>\r\n </defs>\r\n <g id=\"figure_1\">\r\n  <g id=\"patch_1\">\r\n   <path d=\"M 0 120.249889 \r\nL 375.2875 120.249889 \r\nL 375.2875 0 \r\nL 0 0 \r\nz\r\n\" style=\"fill:none;\"/>\r\n  </g>\r\n  <g id=\"axes_1\">\r\n   <g id=\"patch_2\">\r\n    <path d=\"M 33.2875 96.371764 \r\nL 368.0875 96.371764 \r\nL 368.0875 10.85378 \r\nL 33.2875 10.85378 \r\nz\r\n\" style=\"fill:#ffffff;\"/>\r\n   </g>\r\n   <g clip-path=\"url(#p2266ff6259)\">\r\n    <image height=\"86\" id=\"image12f285d51b\" transform=\"scale(1 -1)translate(0 -86)\" width=\"335\" x=\"33.2875\" xlink:href=\"data:image/png;base64,\r\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\" y=\"-10.371764\"/>\r\n   </g>\r\n   <g id=\"matplotlib.axis_1\">\r\n    <g id=\"xtick_1\">\r\n     <g id=\"line2d_1\">\r\n      <defs>\r\n       <path d=\"M 0 0 \r\nL 0 3.5 \r\n\" id=\"m3c7090dddf\" style=\"stroke:#000000;stroke-width:0.8;\"/>\r\n      </defs>\r\n      <g>\r\n       <use style=\"stroke:#000000;stroke-width:0.8;\" x=\"33.432939\" xlink:href=\"#m3c7090dddf\" y=\"96.371764\"/>\r\n      </g>\r\n     </g>\r\n     <g id=\"text_1\">\r\n      <!-- 0 -->\r\n      <g transform=\"translate(30.251689 110.970202)scale(0.1 -0.1)\">\r\n       <defs>\r\n        <path d=\"M 31.78125 66.40625 \r\nQ 24.171875 66.40625 20.328125 58.90625 \r\nQ 16.5 51.421875 16.5 36.375 \r\nQ 16.5 21.390625 20.328125 13.890625 \r\nQ 24.171875 6.390625 31.78125 6.390625 \r\nQ 39.453125 6.390625 43.28125 13.890625 \r\nQ 47.125 21.390625 47.125 36.375 \r\nQ 47.125 51.421875 43.28125 58.90625 \r\nQ 39.453125 66.40625 31.78125 66.40625 \r\nz\r\nM 31.78125 74.21875 \r\nQ 44.046875 74.21875 50.515625 64.515625 \r\nQ 56.984375 54.828125 56.984375 36.375 \r\nQ 56.984375 17.96875 50.515625 8.265625 \r\nQ 44.046875 -1.421875 31.78125 -1.421875 \r\nQ 19.53125 -1.421875 13.0625 8.265625 \r\nQ 6.59375 17.96875 6.59375 36.375 \r\nQ 6.59375 54.828125 13.0625 64.515625 \r\nQ 19.53125 74.21875 31.78125 74.21875 \r\nz\r\n\" id=\"DejaVuSans-48\"/>\r\n       </defs>\r\n       <use xlink:href=\"#DejaVuSans-48\"/>\r\n      </g>\r\n     </g>\r\n    </g>\r\n    <g id=\"xtick_2\">\r\n     <g id=\"line2d_2\">\r\n      <g>\r\n       <use style=\"stroke:#000000;stroke-width:0.8;\" x=\"91.608438\" xlink:href=\"#m3c7090dddf\" y=\"96.371764\"/>\r\n      </g>\r\n     </g>\r\n     <g id=\"text_2\">\r\n      <!-- 200 -->\r\n      <g transform=\"translate(82.064688 110.970202)scale(0.1 -0.1)\">\r\n       <defs>\r\n        <path d=\"M 19.1875 8.296875 \r\nL 53.609375 8.296875 \r\nL 53.609375 0 \r\nL 7.328125 0 \r\nL 7.328125 8.296875 \r\nQ 12.9375 14.109375 22.625 23.890625 \r\nQ 32.328125 33.6875 34.8125 36.53125 \r\nQ 39.546875 41.84375 41.421875 45.53125 \r\nQ 43.3125 49.21875 43.3125 52.78125 \r\nQ 43.3125 58.59375 39.234375 62.25 \r\nQ 35.15625 65.921875 28.609375 65.921875 \r\nQ 23.96875 65.921875 18.8125 64.3125 \r\nQ 13.671875 62.703125 7.8125 59.421875 \r\nL 7.8125 69.390625 \r\nQ 13.765625 71.78125 18.9375 73 \r\nQ 24.125 74.21875 28.421875 74.21875 \r\nQ 39.75 74.21875 46.484375 68.546875 \r\nQ 53.21875 62.890625 53.21875 53.421875 \r\nQ 53.21875 48.921875 51.53125 44.890625 \r\nQ 49.859375 40.875 45.40625 35.40625 \r\nQ 44.1875 33.984375 37.640625 27.21875 \r\nQ 31.109375 20.453125 19.1875 8.296875 \r\nz\r\n\" id=\"DejaVuSans-50\"/>\r\n       </defs>\r\n       <use xlink:href=\"#DejaVuSans-50\"/>\r\n       <use x=\"63.623047\" xlink:href=\"#DejaVuSans-48\"/>\r\n       <use x=\"127.246094\" xlink:href=\"#DejaVuSans-48\"/>\r\n      </g>\r\n     </g>\r\n    </g>\r\n    <g id=\"xtick_3\">\r\n     <g id=\"line2d_3\">\r\n      <g>\r\n       <use style=\"stroke:#000000;stroke-width:0.8;\" x=\"149.783938\" xlink:href=\"#m3c7090dddf\" y=\"96.371764\"/>\r\n      </g>\r\n     </g>\r\n     <g id=\"text_3\">\r\n      <!-- 400 -->\r\n      <g transform=\"translate(140.240188 110.970202)scale(0.1 -0.1)\">\r\n       <defs>\r\n        <path d=\"M 37.796875 64.3125 \r\nL 12.890625 25.390625 \r\nL 37.796875 25.390625 \r\nz\r\nM 35.203125 72.90625 \r\nL 47.609375 72.90625 \r\nL 47.609375 25.390625 \r\nL 58.015625 25.390625 \r\nL 58.015625 17.1875 \r\nL 47.609375 17.1875 \r\nL 47.609375 0 \r\nL 37.796875 0 \r\nL 37.796875 17.1875 \r\nL 4.890625 17.1875 \r\nL 4.890625 26.703125 \r\nz\r\n\" id=\"DejaVuSans-52\"/>\r\n       </defs>\r\n       <use xlink:href=\"#DejaVuSans-52\"/>\r\n       <use x=\"63.623047\" xlink:href=\"#DejaVuSans-48\"/>\r\n       <use x=\"127.246094\" xlink:href=\"#DejaVuSans-48\"/>\r\n      </g>\r\n     </g>\r\n    </g>\r\n    <g id=\"xtick_4\">\r\n     <g id=\"line2d_4\">\r\n      <g>\r\n       <use style=\"stroke:#000000;stroke-width:0.8;\" x=\"207.959437\" xlink:href=\"#m3c7090dddf\" y=\"96.371764\"/>\r\n      </g>\r\n     </g>\r\n     <g id=\"text_4\">\r\n      <!-- 600 -->\r\n      <g transform=\"translate(198.415687 110.970202)scale(0.1 -0.1)\">\r\n       <defs>\r\n        <path d=\"M 33.015625 40.375 \r\nQ 26.375 40.375 22.484375 35.828125 \r\nQ 18.609375 31.296875 18.609375 23.390625 \r\nQ 18.609375 15.53125 22.484375 10.953125 \r\nQ 26.375 6.390625 33.015625 6.390625 \r\nQ 39.65625 6.390625 43.53125 10.953125 \r\nQ 47.40625 15.53125 47.40625 23.390625 \r\nQ 47.40625 31.296875 43.53125 35.828125 \r\nQ 39.65625 40.375 33.015625 40.375 \r\nz\r\nM 52.59375 71.296875 \r\nL 52.59375 62.3125 \r\nQ 48.875 64.0625 45.09375 64.984375 \r\nQ 41.3125 65.921875 37.59375 65.921875 \r\nQ 27.828125 65.921875 22.671875 59.328125 \r\nQ 17.53125 52.734375 16.796875 39.40625 \r\nQ 19.671875 43.65625 24.015625 45.921875 \r\nQ 28.375 48.1875 33.59375 48.1875 \r\nQ 44.578125 48.1875 50.953125 41.515625 \r\nQ 57.328125 34.859375 57.328125 23.390625 \r\nQ 57.328125 12.15625 50.6875 5.359375 \r\nQ 44.046875 -1.421875 33.015625 -1.421875 \r\nQ 20.359375 -1.421875 13.671875 8.265625 \r\nQ 6.984375 17.96875 6.984375 36.375 \r\nQ 6.984375 53.65625 15.1875 63.9375 \r\nQ 23.390625 74.21875 37.203125 74.21875 \r\nQ 40.921875 74.21875 44.703125 73.484375 \r\nQ 48.484375 72.75 52.59375 71.296875 \r\nz\r\n\" id=\"DejaVuSans-54\"/>\r\n       </defs>\r\n       <use xlink:href=\"#DejaVuSans-54\"/>\r\n       <use x=\"63.623047\" xlink:href=\"#DejaVuSans-48\"/>\r\n       <use x=\"127.246094\" xlink:href=\"#DejaVuSans-48\"/>\r\n      </g>\r\n     </g>\r\n    </g>\r\n    <g id=\"xtick_5\">\r\n     <g id=\"line2d_5\">\r\n      <g>\r\n       <use style=\"stroke:#000000;stroke-width:0.8;\" x=\"266.134937\" xlink:href=\"#m3c7090dddf\" y=\"96.371764\"/>\r\n      </g>\r\n     </g>\r\n     <g id=\"text_5\">\r\n      <!-- 800 -->\r\n      <g transform=\"translate(256.591187 110.970202)scale(0.1 -0.1)\">\r\n       <defs>\r\n        <path d=\"M 31.78125 34.625 \r\nQ 24.75 34.625 20.71875 30.859375 \r\nQ 16.703125 27.09375 16.703125 20.515625 \r\nQ 16.703125 13.921875 20.71875 10.15625 \r\nQ 24.75 6.390625 31.78125 6.390625 \r\nQ 38.8125 6.390625 42.859375 10.171875 \r\nQ 46.921875 13.96875 46.921875 20.515625 \r\nQ 46.921875 27.09375 42.890625 30.859375 \r\nQ 38.875 34.625 31.78125 34.625 \r\nz\r\nM 21.921875 38.8125 \r\nQ 15.578125 40.375 12.03125 44.71875 \r\nQ 8.5 49.078125 8.5 55.328125 \r\nQ 8.5 64.0625 14.71875 69.140625 \r\nQ 20.953125 74.21875 31.78125 74.21875 \r\nQ 42.671875 74.21875 48.875 69.140625 \r\nQ 55.078125 64.0625 55.078125 55.328125 \r\nQ 55.078125 49.078125 51.53125 44.71875 \r\nQ 48 40.375 41.703125 38.8125 \r\nQ 48.828125 37.15625 52.796875 32.3125 \r\nQ 56.78125 27.484375 56.78125 20.515625 \r\nQ 56.78125 9.90625 50.3125 4.234375 \r\nQ 43.84375 -1.421875 31.78125 -1.421875 \r\nQ 19.734375 -1.421875 13.25 4.234375 \r\nQ 6.78125 9.90625 6.78125 20.515625 \r\nQ 6.78125 27.484375 10.78125 32.3125 \r\nQ 14.796875 37.15625 21.921875 38.8125 \r\nz\r\nM 18.3125 54.390625 \r\nQ 18.3125 48.734375 21.84375 45.5625 \r\nQ 25.390625 42.390625 31.78125 42.390625 \r\nQ 38.140625 42.390625 41.71875 45.5625 \r\nQ 45.3125 48.734375 45.3125 54.390625 \r\nQ 45.3125 60.0625 41.71875 63.234375 \r\nQ 38.140625 66.40625 31.78125 66.40625 \r\nQ 25.390625 66.40625 21.84375 63.234375 \r\nQ 18.3125 60.0625 18.3125 54.390625 \r\nz\r\n\" id=\"DejaVuSans-56\"/>\r\n       </defs>\r\n       <use xlink:href=\"#DejaVuSans-56\"/>\r\n       <use x=\"63.623047\" xlink:href=\"#DejaVuSans-48\"/>\r\n       <use x=\"127.246094\" xlink:href=\"#DejaVuSans-48\"/>\r\n      </g>\r\n     </g>\r\n    </g>\r\n    <g id=\"xtick_6\">\r\n     <g id=\"line2d_6\">\r\n      <g>\r\n       <use style=\"stroke:#000000;stroke-width:0.8;\" x=\"324.310437\" xlink:href=\"#m3c7090dddf\" y=\"96.371764\"/>\r\n      </g>\r\n     </g>\r\n     <g id=\"text_6\">\r\n      <!-- 1000 -->\r\n      <g transform=\"translate(311.585437 110.970202)scale(0.1 -0.1)\">\r\n       <defs>\r\n        <path d=\"M 12.40625 8.296875 \r\nL 28.515625 8.296875 \r\nL 28.515625 63.921875 \r\nL 10.984375 60.40625 \r\nL 10.984375 69.390625 \r\nL 28.421875 72.90625 \r\nL 38.28125 72.90625 \r\nL 38.28125 8.296875 \r\nL 54.390625 8.296875 \r\nL 54.390625 0 \r\nL 12.40625 0 \r\nz\r\n\" id=\"DejaVuSans-49\"/>\r\n       </defs>\r\n       <use xlink:href=\"#DejaVuSans-49\"/>\r\n       <use x=\"63.623047\" xlink:href=\"#DejaVuSans-48\"/>\r\n       <use x=\"127.246094\" xlink:href=\"#DejaVuSans-48\"/>\r\n       <use x=\"190.869141\" xlink:href=\"#DejaVuSans-48\"/>\r\n      </g>\r\n     </g>\r\n    </g>\r\n   </g>\r\n   <g id=\"matplotlib.axis_2\">\r\n    <g id=\"ytick_1\">\r\n     <g id=\"line2d_7\">\r\n      <defs>\r\n       <path d=\"M 0 0 \r\nL -3.5 0 \r\n\" id=\"m8293f91a6d\" style=\"stroke:#000000;stroke-width:0.8;\"/>\r\n      </defs>\r\n      <g>\r\n       <use style=\"stroke:#000000;stroke-width:0.8;\" x=\"33.2875\" xlink:href=\"#m8293f91a6d\" y=\"10.999219\"/>\r\n      </g>\r\n     </g>\r\n     <g id=\"text_7\">\r\n      <!-- 0 -->\r\n      <g transform=\"translate(19.925 14.798437)scale(0.1 -0.1)\">\r\n       <use xlink:href=\"#DejaVuSans-48\"/>\r\n      </g>\r\n     </g>\r\n    </g>\r\n    <g id=\"ytick_2\">\r\n     <g id=\"line2d_8\">\r\n      <g>\r\n       <use style=\"stroke:#000000;stroke-width:0.8;\" x=\"33.2875\" xlink:href=\"#m8293f91a6d\" y=\"40.086969\"/>\r\n      </g>\r\n     </g>\r\n     <g id=\"text_8\">\r\n      <!-- 100 -->\r\n      <g transform=\"translate(7.2 43.886187)scale(0.1 -0.1)\">\r\n       <use xlink:href=\"#DejaVuSans-49\"/>\r\n       <use x=\"63.623047\" xlink:href=\"#DejaVuSans-48\"/>\r\n       <use x=\"127.246094\" xlink:href=\"#DejaVuSans-48\"/>\r\n      </g>\r\n     </g>\r\n    </g>\r\n    <g id=\"ytick_3\">\r\n     <g id=\"line2d_9\">\r\n      <g>\r\n       <use style=\"stroke:#000000;stroke-width:0.8;\" x=\"33.2875\" xlink:href=\"#m8293f91a6d\" y=\"69.174718\"/>\r\n      </g>\r\n     </g>\r\n     <g id=\"text_9\">\r\n      <!-- 200 -->\r\n      <g transform=\"translate(7.2 72.973937)scale(0.1 -0.1)\">\r\n       <use xlink:href=\"#DejaVuSans-50\"/>\r\n       <use x=\"63.623047\" xlink:href=\"#DejaVuSans-48\"/>\r\n       <use x=\"127.246094\" xlink:href=\"#DejaVuSans-48\"/>\r\n      </g>\r\n     </g>\r\n    </g>\r\n   </g>\r\n   <g id=\"patch_3\">\r\n    <path d=\"M 33.2875 96.371764 \r\nL 33.2875 10.85378 \r\n\" style=\"fill:none;stroke:#000000;stroke-linecap:square;stroke-linejoin:miter;stroke-width:0.8;\"/>\r\n   </g>\r\n   <g id=\"patch_4\">\r\n    <path d=\"M 368.0875 96.371764 \r\nL 368.0875 10.85378 \r\n\" style=\"fill:none;stroke:#000000;stroke-linecap:square;stroke-linejoin:miter;stroke-width:0.8;\"/>\r\n   </g>\r\n   <g id=\"patch_5\">\r\n    <path d=\"M 33.2875 96.371764 \r\nL 368.0875 96.371764 \r\n\" style=\"fill:none;stroke:#000000;stroke-linecap:square;stroke-linejoin:miter;stroke-width:0.8;\"/>\r\n   </g>\r\n   <g id=\"patch_6\">\r\n    <path d=\"M 33.2875 10.85378 \r\nL 368.0875 10.85378 \r\n\" style=\"fill:none;stroke:#000000;stroke-linecap:square;stroke-linejoin:miter;stroke-width:0.8;\"/>\r\n   </g>\r\n  </g>\r\n </g>\r\n <defs>\r\n  <clipPath id=\"p2266ff6259\">\r\n   <rect height=\"85.517984\" width=\"334.8\" x=\"33.2875\" y=\"10.85378\"/>\r\n  </clipPath>\r\n </defs>\r\n</svg>\r\n",
      "image/png": "[encoded data removed]"
     },
     "metadata": {
      "needs_background": "light"
     }
    }
   ],
   "source": [
    "img = cv2.imread('./imgs/center_orth.png')  # 读取RGB图片\n",
    "img = cv2.cvtColor(img, cv2.COLOR_BGR2RGB)\n",
    "plt.imshow(img)\n",
    "plt.show()"
   ]
  },
  {
   "cell_type": "code",
   "execution_count": 27,
   "metadata": {},
   "outputs": [
    {
     "output_type": "stream",
     "name": "stdout",
     "text": [
      "1  "
     ]
    }
   ],
   "source": [
    "for n in range(1, 0, -1):\n",
    "    print(n,' ', end='')"
   ]
  },
  {
   "cell_type": "code",
   "execution_count": null,
   "metadata": {},
   "outputs": [],
   "source": []
  }
 ]
}