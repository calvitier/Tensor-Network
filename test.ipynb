{
 "metadata": {
  "language_info": {
   "codemirror_mode": {
    "name": "ipython",
    "version": 3
   },
   "file_extension": ".py",
   "mimetype": "text/x-python",
   "name": "python",
   "nbconvert_exporter": "python",
   "pygments_lexer": "ipython3",
   "version": "3.8.3-final"
  },
  "orig_nbformat": 2,
  "kernelspec": {
   "name": "python3",
   "display_name": "Python 3",
   "language": "python"
  }
 },
 "nbformat": 4,
 "nbformat_minor": 2,
 "cells": [
  {
   "cell_type": "code",
   "execution_count": 1,
   "metadata": {},
   "outputs": [],
   "source": [
    "import numpy as np\n",
    "import copy\n",
    "import cv2\n",
    "import Operator as op\n",
    "import MPS\n",
    "from scipy.linalg import expm"
   ]
  },
  {
   "cell_type": "code",
   "execution_count": 8,
   "metadata": {},
   "outputs": [
    {
     "output_type": "execute_result",
     "data": {
      "text/plain": [
       "array([3.55271368e-15+0.j, 2.22044605e-15+0.j, 3.99680289e-15+0.j,\n",
       "       0.00000000e+00+0.j])"
      ]
     },
     "metadata": {},
     "execution_count": 8
    }
   ],
   "source": [
    "n = 4\n",
    "x = np.random.rand(n, n)\n",
    "lm, u = np.linalg.eig(x)\n",
    "y = expm(x)\n",
    "y.dot(u[:, 0]) - np.exp(lm[0]) * u[:, 0]"
   ]
  },
  {
   "cell_type": "code",
   "execution_count": 6,
   "metadata": {},
   "outputs": [],
   "source": [
    "H = op.heisenberg_hamilt([1, 1, 1], [0, 0, 0])"
   ]
  },
  {
   "cell_type": "code",
   "execution_count": 7,
   "metadata": {},
   "outputs": [
    {
     "output_type": "execute_result",
     "data": {
      "text/plain": [
       "(5, 5)"
      ]
     },
     "metadata": {},
     "execution_count": 7
    }
   ],
   "source": [
    "np.eye(5).shape"
   ]
  },
  {
   "cell_type": "code",
   "execution_count": 2,
   "metadata": {},
   "outputs": [
    {
     "output_type": "stream",
     "name": "stdout",
     "text": [
      "[10, 10, 10]\n(4, 10) (10, 4, 10) (10, 4, 10) (10, 4) \n [10, 10, 4]\n(4, 10) (10, 4, 10) (10, 4, 4) (4, 4) \n [10, 6, 4]\n(4, 10) (10, 4, 6) (6, 4, 4) (4, 4) \n [6, 6, 4]\n(4, 6) (6, 4, 6) (6, 4, 4) (4, 4) "
     ]
    }
   ],
   "source": [
    "x = MPS.mps(d = 4, chi = 10, length = 4)\n",
    "print(x.virtdim)\n",
    "for n in range(0,x.length):\n",
    "    print(x.tensors[n].shape,end=' ')\n",
    "x.orth_right2left(3, cut_dim = 6)\n",
    "print('\\n',x.virtdim)\n",
    "for n in range(0,x.length):\n",
    "    print(x.tensors[n].shape,end=' ')\n",
    "x.orth_right2left(2, cut_dim = 6)\n",
    "print('\\n',x.virtdim)\n",
    "for n in range(0,x.length):\n",
    "    print(x.tensors[n].shape,end=' ')\n",
    "x.orth_right2left(1, cut_dim = 6)\n",
    "print('\\n',x.virtdim)\n",
    "for n in range(0,x.length):\n",
    "    print(x.tensors[n].shape,end=' ')"
   ]
  },
  {
   "cell_type": "code",
   "execution_count": null,
   "metadata": {},
   "outputs": [],
   "source": []
  },
  {
   "cell_type": "code",
   "execution_count": 54,
   "metadata": {},
   "outputs": [
    {
     "output_type": "stream",
     "name": "stdout",
     "text": [
      "(4, 4) (4,) (4, 10)\n[4.28011706 4.0664482  1.99549077 1.38439236]\n"
     ]
    }
   ],
   "source": [
    "tensor = np.random.randn(4,10)\n",
    "u, lm, v = np.linalg.svd(tensor, full_matrices = False)\n",
    "print(u.shape,lm.shape,v.shape)\n",
    "print(lm)"
   ]
  },
  {
   "cell_type": "code",
   "execution_count": 55,
   "metadata": {},
   "outputs": [
    {
     "output_type": "stream",
     "name": "stdout",
     "text": [
      "(4, 10)\n"
     ]
    }
   ],
   "source": [
    "r = np.diag(lm[:cut_dim]).dot(v[:cut_dim, :])\n",
    "print(r.shape)"
   ]
  },
  {
   "cell_type": "code",
   "execution_count": 35,
   "metadata": {},
   "outputs": [
    {
     "output_type": "stream",
     "name": "stdout",
     "text": [
      "[[ 1.00000000e+00  2.15041635e-17  5.37260171e-17 -2.51014050e-16]\n [ 2.15041635e-17  1.00000000e+00  5.45546771e-16  3.23957377e-16]\n [ 5.37260171e-17  5.45546771e-16  1.00000000e+00 -4.30917071e-16]\n [-2.51014050e-16  3.23957377e-16 -4.30917071e-16  1.00000000e+00]]\n1.3516368858264404e-15\n"
     ]
    }
   ],
   "source": [
    "\n",
    "tensor0 = x.mps2tensor()\n",
    "x.center_orth(center = 0, cut_dim = -1)\n",
    "tensor = x.get_tensor(1)\n",
    "tensor = np.tensordot(tensor,tensor,[[1],[1]])\n",
    "print(tensor)\n",
    "err = np.linalg.norm(tensor - np.eye(4))\n",
    "print(err)\n"
   ]
  },
  {
   "cell_type": "code",
   "execution_count": 44,
   "metadata": {},
   "outputs": [
    {
     "output_type": "stream",
     "name": "stdout",
     "text": [
      "0.08169656741780812\n"
     ]
    }
   ],
   "source": [
    "y = MatrixProductState.OBCMPS(d = 2, chi = 10, length = 10)\n",
    "tensor0 = y.full_tensor()\n",
    "y.center_orthogonalization(5, way = 'svd', dc = 8, normalize = False)\n",
    "tensor = y.full_tensor()\n",
    "tensor = tensor/np.linalg.norm(tensor)\n",
    "tensor0 = tensor0/np.linalg.norm(tensor0)\n",
    "err = np.linalg.norm(tensor0 - tensor)\n",
    "print(err)"
   ]
  },
  {
   "cell_type": "code",
   "execution_count": 45,
   "metadata": {},
   "outputs": [
    {
     "output_type": "stream",
     "name": "stdout",
     "text": [
      "0.25929050308523316\n8.765864337006104e-16\n"
     ]
    }
   ],
   "source": [
    "x = MPS.mps(d = 2, chi = 10, length = 10)\n",
    "tensor0 = x.mps2tensor()\n",
    "x.center_orth(5, cut_dim = 8)\n",
    "tensor = x.mps2tensor()\n",
    "tensor = tensor/np.linalg.norm(tensor)\n",
    "tensor0 = tensor0/np.linalg.norm(tensor0)\n",
    "err = np.linalg.norm(tensor0 - tensor)\n",
    "print(err)\n",
    "x.center_orth(6, cut_dim = 8)\n",
    "tensor0 = x.mps2tensor()\n",
    "tensor = tensor/np.linalg.norm(tensor)\n",
    "tensor0 = tensor0/np.linalg.norm(tensor0)\n",
    "err = np.linalg.norm(tensor0 - tensor)\n",
    "print(err)"
   ]
  },
  {
   "cell_type": "code",
   "execution_count": 42,
   "metadata": {},
   "outputs": [
    {
     "output_type": "stream",
     "name": "stdout",
     "text": [
      "[[ 1.00000000e+00 -2.69715660e-17  3.00288612e-16  8.23604150e-17]\n [-2.69715660e-17  1.00000000e+00 -3.12383344e-16  9.92807591e-17]\n [ 3.00288612e-16 -3.12383344e-16  1.00000000e+00 -2.50022382e-16]\n [ 8.23604150e-17  9.92807591e-17 -2.50022382e-16  1.00000000e+00]]\n"
     ]
    }
   ],
   "source": [
    "x = MPS.mps(d = 4, chi = 10, length = 4)\n",
    "tensor0 = x.mps2tensor()\n",
    "x.center_orth(center = 1, cut_dim = 6)\n",
    "tensor = x.get_tensor(0)\n",
    "tensor = np.tensordot(tensor,tensor,[[0],[0]])\n",
    "print(tensor)"
   ]
  },
  {
   "cell_type": "code",
   "execution_count": 66,
   "metadata": {},
   "outputs": [
    {
     "output_type": "stream",
     "name": "stdout",
     "text": [
      "(4, 4)\n(4, 4, 6)\n(6, 4, 6)\n(6, 4)\n"
     ]
    }
   ],
   "source": [
    "x = MPS.mps(d = 4, chi = 10, length = 4)\n",
    "x.center_orth(center = x.length-1, cut_dim = 6)\n",
    "for n in range(0,x.length):\n",
    "    print(x.tensors[n].shape)"
   ]
  },
  {
   "cell_type": "code",
   "execution_count": 8,
   "metadata": {},
   "outputs": [
    {
     "output_type": "stream",
     "name": "stdout",
     "text": [
      "[[[ 0.46020161 -1.50716596]\n  [ 2.91081436  2.61212477]]\n\n [[ 0.73817045  1.27364669]\n  [-3.33875871 -1.14203851]]]\n"
     ]
    }
   ],
   "source": [
    "m = MPS.mps(2,2,3)\n",
    "# print(m.tensors)\n",
    "M = m.mps2tensor()\n",
    "print(M)"
   ]
  },
  {
   "cell_type": "code",
   "execution_count": 9,
   "metadata": {},
   "outputs": [
    {
     "output_type": "stream",
     "name": "stdout",
     "text": [
      "[ 0.46020161 -1.50716596  2.91081436  2.61212477  0.73817045  1.27364669\n -3.33875871 -1.14203851]\n"
     ]
    }
   ],
   "source": [
    "print(M.reshape((-1,)))"
   ]
  },
  {
   "cell_type": "code",
   "execution_count": 5,
   "metadata": {},
   "outputs": [
    {
     "output_type": "stream",
     "name": "stdout",
     "text": [
      "svd\n"
     ]
    }
   ],
   "source": [
    "str = 'SVD'\n",
    "str = str.lower()\n",
    "print(str)"
   ]
  },
  {
   "cell_type": "code",
   "execution_count": 8,
   "metadata": {},
   "outputs": [
    {
     "output_type": "execute_result",
     "data": {
      "text/plain": [
       "False"
      ]
     },
     "metadata": {},
     "execution_count": 8
    }
   ],
   "source": [
    "str=='a' or str=='b'"
   ]
  },
  {
   "cell_type": "code",
   "execution_count": 8,
   "metadata": {},
   "outputs": [
    {
     "output_type": "stream",
     "name": "stdout",
     "text": [
      "Shape of the image data = (294, 1151, 3)\n"
     ]
    },
    {
     "output_type": "display_data",
     "data": {
      "text/plain": "<Figure size 432x288 with 1 Axes>",
      "image/svg+xml": "<?xml version=\"1.0\" encoding=\"utf-8\" standalone=\"no\"?>\r\n<!DOCTYPE svg PUBLIC \"-//W3C//DTD SVG 1.1//EN\"\r\n  \"http://www.w3.org/Graphics/SVG/1.1/DTD/svg11.dtd\">\r\n<!-- Created with matplotlib (https://matplotlib.org/) -->\r\n<svg height=\"120.249889pt\" version=\"1.1\" viewBox=\"0 0 375.2875 120.249889\" width=\"375.2875pt\" xmlns=\"http://www.w3.org/2000/svg\" xmlns:xlink=\"http://www.w3.org/1999/xlink\">\r\n <metadata>\r\n  <rdf:RDF xmlns:cc=\"http://creativecommons.org/ns#\" xmlns:dc=\"http://purl.org/dc/elements/1.1/\" xmlns:rdf=\"http://www.w3.org/1999/02/22-rdf-syntax-ns#\">\r\n   <cc:Work>\r\n    <dc:type rdf:resource=\"http://purl.org/dc/dcmitype/StillImage\"/>\r\n    <dc:date>2020-12-12T09:44:02.124772</dc:date>\r\n    <dc:format>image/svg+xml</dc:format>\r\n    <dc:creator>\r\n     <cc:Agent>\r\n      <dc:title>Matplotlib v3.3.3, https://matplotlib.org/</dc:title>\r\n     </cc:Agent>\r\n    </dc:creator>\r\n   </cc:Work>\r\n  </rdf:RDF>\r\n </metadata>\r\n <defs>\r\n  <style type=\"text/css\">*{stroke-linecap:butt;stroke-linejoin:round;}</style>\r\n </defs>\r\n <g id=\"figure_1\">\r\n  <g id=\"patch_1\">\r\n   <path d=\"M 0 120.249889 \r\nL 375.2875 120.249889 \r\nL 375.2875 0 \r\nL 0 0 \r\nz\r\n\" style=\"fill:none;\"/>\r\n  </g>\r\n  <g id=\"axes_1\">\r\n   <g id=\"patch_2\">\r\n    <path d=\"M 33.2875 96.371764 \r\nL 368.0875 96.371764 \r\nL 368.0875 10.85378 \r\nL 33.2875 10.85378 \r\nz\r\n\" style=\"fill:#ffffff;\"/>\r\n   </g>\r\n   <g clip-path=\"url(#p2266ff6259)\">\r\n    <image height=\"86\" id=\"image12f285d51b\" transform=\"scale(1 -1)translate(0 -86)\" width=\"335\" x=\"33.2875\" xlink:href=\"data:image/png;base64,\r\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\" y=\"-10.371764\"/>\r\n   </g>\r\n   <g id=\"matplotlib.axis_1\">\r\n    <g id=\"xtick_1\">\r\n     <g id=\"line2d_1\">\r\n      <defs>\r\n       <path d=\"M 0 0 \r\nL 0 3.5 \r\n\" id=\"m3c7090dddf\" style=\"stroke:#000000;stroke-width:0.8;\"/>\r\n      </defs>\r\n      <g>\r\n       <use style=\"stroke:#000000;stroke-width:0.8;\" x=\"33.432939\" xlink:href=\"#m3c7090dddf\" y=\"96.371764\"/>\r\n      </g>\r\n     </g>\r\n     <g id=\"text_1\">\r\n      <!-- 0 -->\r\n      <g transform=\"translate(30.251689 110.970202)scale(0.1 -0.1)\">\r\n       <defs>\r\n        <path d=\"M 31.78125 66.40625 \r\nQ 24.171875 66.40625 20.328125 58.90625 \r\nQ 16.5 51.421875 16.5 36.375 \r\nQ 16.5 21.390625 20.328125 13.890625 \r\nQ 24.171875 6.390625 31.78125 6.390625 \r\nQ 39.453125 6.390625 43.28125 13.890625 \r\nQ 47.125 21.390625 47.125 36.375 \r\nQ 47.125 51.421875 43.28125 58.90625 \r\nQ 39.453125 66.40625 31.78125 66.40625 \r\nz\r\nM 31.78125 74.21875 \r\nQ 44.046875 74.21875 50.515625 64.515625 \r\nQ 56.984375 54.828125 56.984375 36.375 \r\nQ 56.984375 17.96875 50.515625 8.265625 \r\nQ 44.046875 -1.421875 31.78125 -1.421875 \r\nQ 19.53125 -1.421875 13.0625 8.265625 \r\nQ 6.59375 17.96875 6.59375 36.375 \r\nQ 6.59375 54.828125 13.0625 64.515625 \r\nQ 19.53125 74.21875 31.78125 74.21875 \r\nz\r\n\" id=\"DejaVuSans-48\"/>\r\n       </defs>\r\n       <use xlink:href=\"#DejaVuSans-48\"/>\r\n      </g>\r\n     </g>\r\n    </g>\r\n    <g id=\"xtick_2\">\r\n     <g id=\"line2d_2\">\r\n      <g>\r\n       <use style=\"stroke:#000000;stroke-width:0.8;\" x=\"91.608438\" xlink:href=\"#m3c7090dddf\" y=\"96.371764\"/>\r\n      </g>\r\n     </g>\r\n     <g id=\"text_2\">\r\n      <!-- 200 -->\r\n      <g transform=\"translate(82.064688 110.970202)scale(0.1 -0.1)\">\r\n       <defs>\r\n        <path d=\"M 19.1875 8.296875 \r\nL 53.609375 8.296875 \r\nL 53.609375 0 \r\nL 7.328125 0 \r\nL 7.328125 8.296875 \r\nQ 12.9375 14.109375 22.625 23.890625 \r\nQ 32.328125 33.6875 34.8125 36.53125 \r\nQ 39.546875 41.84375 41.421875 45.53125 \r\nQ 43.3125 49.21875 43.3125 52.78125 \r\nQ 43.3125 58.59375 39.234375 62.25 \r\nQ 35.15625 65.921875 28.609375 65.921875 \r\nQ 23.96875 65.921875 18.8125 64.3125 \r\nQ 13.671875 62.703125 7.8125 59.421875 \r\nL 7.8125 69.390625 \r\nQ 13.765625 71.78125 18.9375 73 \r\nQ 24.125 74.21875 28.421875 74.21875 \r\nQ 39.75 74.21875 46.484375 68.546875 \r\nQ 53.21875 62.890625 53.21875 53.421875 \r\nQ 53.21875 48.921875 51.53125 44.890625 \r\nQ 49.859375 40.875 45.40625 35.40625 \r\nQ 44.1875 33.984375 37.640625 27.21875 \r\nQ 31.109375 20.453125 19.1875 8.296875 \r\nz\r\n\" id=\"DejaVuSans-50\"/>\r\n       </defs>\r\n       <use xlink:href=\"#DejaVuSans-50\"/>\r\n       <use x=\"63.623047\" xlink:href=\"#DejaVuSans-48\"/>\r\n       <use x=\"127.246094\" xlink:href=\"#DejaVuSans-48\"/>\r\n      </g>\r\n     </g>\r\n    </g>\r\n    <g id=\"xtick_3\">\r\n     <g id=\"line2d_3\">\r\n      <g>\r\n       <use style=\"stroke:#000000;stroke-width:0.8;\" x=\"149.783938\" xlink:href=\"#m3c7090dddf\" y=\"96.371764\"/>\r\n      </g>\r\n     </g>\r\n     <g id=\"text_3\">\r\n      <!-- 400 -->\r\n      <g transform=\"translate(140.240188 110.970202)scale(0.1 -0.1)\">\r\n       <defs>\r\n        <path d=\"M 37.796875 64.3125 \r\nL 12.890625 25.390625 \r\nL 37.796875 25.390625 \r\nz\r\nM 35.203125 72.90625 \r\nL 47.609375 72.90625 \r\nL 47.609375 25.390625 \r\nL 58.015625 25.390625 \r\nL 58.015625 17.1875 \r\nL 47.609375 17.1875 \r\nL 47.609375 0 \r\nL 37.796875 0 \r\nL 37.796875 17.1875 \r\nL 4.890625 17.1875 \r\nL 4.890625 26.703125 \r\nz\r\n\" id=\"DejaVuSans-52\"/>\r\n       </defs>\r\n       <use xlink:href=\"#DejaVuSans-52\"/>\r\n       <use x=\"63.623047\" xlink:href=\"#DejaVuSans-48\"/>\r\n       <use x=\"127.246094\" xlink:href=\"#DejaVuSans-48\"/>\r\n      </g>\r\n     </g>\r\n    </g>\r\n    <g id=\"xtick_4\">\r\n     <g id=\"line2d_4\">\r\n      <g>\r\n       <use style=\"stroke:#000000;stroke-width:0.8;\" x=\"207.959437\" xlink:href=\"#m3c7090dddf\" y=\"96.371764\"/>\r\n      </g>\r\n     </g>\r\n     <g id=\"text_4\">\r\n      <!-- 600 -->\r\n      <g transform=\"translate(198.415687 110.970202)scale(0.1 -0.1)\">\r\n       <defs>\r\n        <path d=\"M 33.015625 40.375 \r\nQ 26.375 40.375 22.484375 35.828125 \r\nQ 18.609375 31.296875 18.609375 23.390625 \r\nQ 18.609375 15.53125 22.484375 10.953125 \r\nQ 26.375 6.390625 33.015625 6.390625 \r\nQ 39.65625 6.390625 43.53125 10.953125 \r\nQ 47.40625 15.53125 47.40625 23.390625 \r\nQ 47.40625 31.296875 43.53125 35.828125 \r\nQ 39.65625 40.375 33.015625 40.375 \r\nz\r\nM 52.59375 71.296875 \r\nL 52.59375 62.3125 \r\nQ 48.875 64.0625 45.09375 64.984375 \r\nQ 41.3125 65.921875 37.59375 65.921875 \r\nQ 27.828125 65.921875 22.671875 59.328125 \r\nQ 17.53125 52.734375 16.796875 39.40625 \r\nQ 19.671875 43.65625 24.015625 45.921875 \r\nQ 28.375 48.1875 33.59375 48.1875 \r\nQ 44.578125 48.1875 50.953125 41.515625 \r\nQ 57.328125 34.859375 57.328125 23.390625 \r\nQ 57.328125 12.15625 50.6875 5.359375 \r\nQ 44.046875 -1.421875 33.015625 -1.421875 \r\nQ 20.359375 -1.421875 13.671875 8.265625 \r\nQ 6.984375 17.96875 6.984375 36.375 \r\nQ 6.984375 53.65625 15.1875 63.9375 \r\nQ 23.390625 74.21875 37.203125 74.21875 \r\nQ 40.921875 74.21875 44.703125 73.484375 \r\nQ 48.484375 72.75 52.59375 71.296875 \r\nz\r\n\" id=\"DejaVuSans-54\"/>\r\n       </defs>\r\n       <use xlink:href=\"#DejaVuSans-54\"/>\r\n       <use x=\"63.623047\" xlink:href=\"#DejaVuSans-48\"/>\r\n       <use x=\"127.246094\" xlink:href=\"#DejaVuSans-48\"/>\r\n      </g>\r\n     </g>\r\n    </g>\r\n    <g id=\"xtick_5\">\r\n     <g id=\"line2d_5\">\r\n      <g>\r\n       <use style=\"stroke:#000000;stroke-width:0.8;\" x=\"266.134937\" xlink:href=\"#m3c7090dddf\" y=\"96.371764\"/>\r\n      </g>\r\n     </g>\r\n     <g id=\"text_5\">\r\n      <!-- 800 -->\r\n      <g transform=\"translate(256.591187 110.970202)scale(0.1 -0.1)\">\r\n       <defs>\r\n        <path d=\"M 31.78125 34.625 \r\nQ 24.75 34.625 20.71875 30.859375 \r\nQ 16.703125 27.09375 16.703125 20.515625 \r\nQ 16.703125 13.921875 20.71875 10.15625 \r\nQ 24.75 6.390625 31.78125 6.390625 \r\nQ 38.8125 6.390625 42.859375 10.171875 \r\nQ 46.921875 13.96875 46.921875 20.515625 \r\nQ 46.921875 27.09375 42.890625 30.859375 \r\nQ 38.875 34.625 31.78125 34.625 \r\nz\r\nM 21.921875 38.8125 \r\nQ 15.578125 40.375 12.03125 44.71875 \r\nQ 8.5 49.078125 8.5 55.328125 \r\nQ 8.5 64.0625 14.71875 69.140625 \r\nQ 20.953125 74.21875 31.78125 74.21875 \r\nQ 42.671875 74.21875 48.875 69.140625 \r\nQ 55.078125 64.0625 55.078125 55.328125 \r\nQ 55.078125 49.078125 51.53125 44.71875 \r\nQ 48 40.375 41.703125 38.8125 \r\nQ 48.828125 37.15625 52.796875 32.3125 \r\nQ 56.78125 27.484375 56.78125 20.515625 \r\nQ 56.78125 9.90625 50.3125 4.234375 \r\nQ 43.84375 -1.421875 31.78125 -1.421875 \r\nQ 19.734375 -1.421875 13.25 4.234375 \r\nQ 6.78125 9.90625 6.78125 20.515625 \r\nQ 6.78125 27.484375 10.78125 32.3125 \r\nQ 14.796875 37.15625 21.921875 38.8125 \r\nz\r\nM 18.3125 54.390625 \r\nQ 18.3125 48.734375 21.84375 45.5625 \r\nQ 25.390625 42.390625 31.78125 42.390625 \r\nQ 38.140625 42.390625 41.71875 45.5625 \r\nQ 45.3125 48.734375 45.3125 54.390625 \r\nQ 45.3125 60.0625 41.71875 63.234375 \r\nQ 38.140625 66.40625 31.78125 66.40625 \r\nQ 25.390625 66.40625 21.84375 63.234375 \r\nQ 18.3125 60.0625 18.3125 54.390625 \r\nz\r\n\" id=\"DejaVuSans-56\"/>\r\n       </defs>\r\n       <use xlink:href=\"#DejaVuSans-56\"/>\r\n       <use x=\"63.623047\" xlink:href=\"#DejaVuSans-48\"/>\r\n       <use x=\"127.246094\" xlink:href=\"#DejaVuSans-48\"/>\r\n      </g>\r\n     </g>\r\n    </g>\r\n    <g id=\"xtick_6\">\r\n     <g id=\"line2d_6\">\r\n      <g>\r\n       <use style=\"stroke:#000000;stroke-width:0.8;\" x=\"324.310437\" xlink:href=\"#m3c7090dddf\" y=\"96.371764\"/>\r\n      </g>\r\n     </g>\r\n     <g id=\"text_6\">\r\n      <!-- 1000 -->\r\n      <g transform=\"translate(311.585437 110.970202)scale(0.1 -0.1)\">\r\n       <defs>\r\n        <path d=\"M 12.40625 8.296875 \r\nL 28.515625 8.296875 \r\nL 28.515625 63.921875 \r\nL 10.984375 60.40625 \r\nL 10.984375 69.390625 \r\nL 28.421875 72.90625 \r\nL 38.28125 72.90625 \r\nL 38.28125 8.296875 \r\nL 54.390625 8.296875 \r\nL 54.390625 0 \r\nL 12.40625 0 \r\nz\r\n\" id=\"DejaVuSans-49\"/>\r\n       </defs>\r\n       <use xlink:href=\"#DejaVuSans-49\"/>\r\n       <use x=\"63.623047\" xlink:href=\"#DejaVuSans-48\"/>\r\n       <use x=\"127.246094\" xlink:href=\"#DejaVuSans-48\"/>\r\n       <use x=\"190.869141\" xlink:href=\"#DejaVuSans-48\"/>\r\n      </g>\r\n     </g>\r\n    </g>\r\n   </g>\r\n   <g id=\"matplotlib.axis_2\">\r\n    <g id=\"ytick_1\">\r\n     <g id=\"line2d_7\">\r\n      <defs>\r\n       <path d=\"M 0 0 \r\nL -3.5 0 \r\n\" id=\"m8293f91a6d\" style=\"stroke:#000000;stroke-width:0.8;\"/>\r\n      </defs>\r\n      <g>\r\n       <use style=\"stroke:#000000;stroke-width:0.8;\" x=\"33.2875\" xlink:href=\"#m8293f91a6d\" y=\"10.999219\"/>\r\n      </g>\r\n     </g>\r\n     <g id=\"text_7\">\r\n      <!-- 0 -->\r\n      <g transform=\"translate(19.925 14.798437)scale(0.1 -0.1)\">\r\n       <use xlink:href=\"#DejaVuSans-48\"/>\r\n      </g>\r\n     </g>\r\n    </g>\r\n    <g id=\"ytick_2\">\r\n     <g id=\"line2d_8\">\r\n      <g>\r\n       <use style=\"stroke:#000000;stroke-width:0.8;\" x=\"33.2875\" xlink:href=\"#m8293f91a6d\" y=\"40.086969\"/>\r\n      </g>\r\n     </g>\r\n     <g id=\"text_8\">\r\n      <!-- 100 -->\r\n      <g transform=\"translate(7.2 43.886187)scale(0.1 -0.1)\">\r\n       <use xlink:href=\"#DejaVuSans-49\"/>\r\n       <use x=\"63.623047\" xlink:href=\"#DejaVuSans-48\"/>\r\n       <use x=\"127.246094\" xlink:href=\"#DejaVuSans-48\"/>\r\n      </g>\r\n     </g>\r\n    </g>\r\n    <g id=\"ytick_3\">\r\n     <g id=\"line2d_9\">\r\n      <g>\r\n       <use style=\"stroke:#000000;stroke-width:0.8;\" x=\"33.2875\" xlink:href=\"#m8293f91a6d\" y=\"69.174718\"/>\r\n      </g>\r\n     </g>\r\n     <g id=\"text_9\">\r\n      <!-- 200 -->\r\n      <g transform=\"translate(7.2 72.973937)scale(0.1 -0.1)\">\r\n       <use xlink:href=\"#DejaVuSans-50\"/>\r\n       <use x=\"63.623047\" xlink:href=\"#DejaVuSans-48\"/>\r\n       <use x=\"127.246094\" xlink:href=\"#DejaVuSans-48\"/>\r\n      </g>\r\n     </g>\r\n    </g>\r\n   </g>\r\n   <g id=\"patch_3\">\r\n    <path d=\"M 33.2875 96.371764 \r\nL 33.2875 10.85378 \r\n\" style=\"fill:none;stroke:#000000;stroke-linecap:square;stroke-linejoin:miter;stroke-width:0.8;\"/>\r\n   </g>\r\n   <g id=\"patch_4\">\r\n    <path d=\"M 368.0875 96.371764 \r\nL 368.0875 10.85378 \r\n\" style=\"fill:none;stroke:#000000;stroke-linecap:square;stroke-linejoin:miter;stroke-width:0.8;\"/>\r\n   </g>\r\n   <g id=\"patch_5\">\r\n    <path d=\"M 33.2875 96.371764 \r\nL 368.0875 96.371764 \r\n\" style=\"fill:none;stroke:#000000;stroke-linecap:square;stroke-linejoin:miter;stroke-width:0.8;\"/>\r\n   </g>\r\n   <g id=\"patch_6\">\r\n    <path d=\"M 33.2875 10.85378 \r\nL 368.0875 10.85378 \r\n\" style=\"fill:none;stroke:#000000;stroke-linecap:square;stroke-linejoin:miter;stroke-width:0.8;\"/>\r\n   </g>\r\n  </g>\r\n </g>\r\n <defs>\r\n  <clipPath id=\"p2266ff6259\">\r\n   <rect height=\"85.517984\" width=\"334.8\" x=\"33.2875\" y=\"10.85378\"/>\r\n  </clipPath>\r\n </defs>\r\n</svg>\r\n",
      "image/png": "[encoded data removed]"
     },
     "metadata": {
      "needs_background": "light"
     }
    }
   ],
   "source": [
    "img = cv2.imread('./imgs/center_orth.png')  # 读取RGB图片\n",
    "img = cv2.cvtColor(img, cv2.COLOR_BGR2RGB)\n",
    "plt.imshow(img)\n",
    "plt.show()"
   ]
  },
  {
   "cell_type": "code",
   "execution_count": 27,
   "metadata": {},
   "outputs": [
    {
     "output_type": "stream",
     "name": "stdout",
     "text": [
      "1  "
     ]
    }
   ],
   "source": [
    "for n in range(1, 0, -1):\n",
    "    print(n,' ', end='')"
   ]
  },
  {
   "cell_type": "code",
   "execution_count": null,
   "metadata": {},
   "outputs": [],
   "source": []
  }
 ]
}