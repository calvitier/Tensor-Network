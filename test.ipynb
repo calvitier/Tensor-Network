{
 "metadata": {
  "language_info": {
   "codemirror_mode": {
    "name": "ipython",
    "version": 3
   },
   "file_extension": ".py",
   "mimetype": "text/x-python",
   "name": "python",
   "nbconvert_exporter": "python",
   "pygments_lexer": "ipython3",
   "version": "3.8.3-final"
  },
  "orig_nbformat": 2,
  "kernelspec": {
   "name": "python3",
   "display_name": "Python 3"
  }
 },
 "nbformat": 4,
 "nbformat_minor": 2,
 "cells": [
  {
   "cell_type": "code",
   "execution_count": 2,
   "metadata": {},
   "outputs": [],
   "source": [
    "import numpy as np\n",
    "import copy\n",
    "import torch as tc\n",
    "import Basicfun as bf\n",
    "import matplotlib.pyplot as plt\n",
    "import MPS"
   ]
  },
  {
   "cell_type": "code",
   "execution_count": 3,
   "metadata": {},
   "outputs": [
    {
     "output_type": "stream",
     "name": "stdout",
     "text": [
      "1\n"
     ]
    }
   ],
   "source": [
    "tensors = list()\n",
    "x = np.random.randn(3, 3, 3)\n",
    "tensors += [x]\n",
    "print(len(tensors))"
   ]
  },
  {
   "cell_type": "code",
   "execution_count": 8,
   "metadata": {},
   "outputs": [
    {
     "output_type": "stream",
     "name": "stdout",
     "text": [
      "[[[ 0.46020161 -1.50716596]\n  [ 2.91081436  2.61212477]]\n\n [[ 0.73817045  1.27364669]\n  [-3.33875871 -1.14203851]]]\n"
     ]
    }
   ],
   "source": [
    "m = MPS.mps(2,2,3)\n",
    "# print(m.tensors)\n",
    "M = m.mps2tensor()\n",
    "print(M)"
   ]
  },
  {
   "cell_type": "code",
   "execution_count": 9,
   "metadata": {},
   "outputs": [
    {
     "output_type": "stream",
     "name": "stdout",
     "text": [
      "[ 0.46020161 -1.50716596  2.91081436  2.61212477  0.73817045  1.27364669\n -3.33875871 -1.14203851]\n"
     ]
    }
   ],
   "source": [
    "print(M.reshape((-1,)))"
   ]
  },
  {
   "cell_type": "code",
   "execution_count": null,
   "metadata": {},
   "outputs": [],
   "source": []
  }
 ]
}