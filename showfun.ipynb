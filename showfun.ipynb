{
 "metadata": {
  "language_info": {
   "codemirror_mode": {
    "name": "ipython",
    "version": 3
   },
   "file_extension": ".py",
   "mimetype": "text/x-python",
   "name": "python",
   "nbconvert_exporter": "python",
   "pygments_lexer": "ipython3",
   "version": "3.8.3-final"
  },
  "orig_nbformat": 2,
  "kernelspec": {
   "name": "python3",
   "display_name": "Python 3",
   "language": "python"
  }
 },
 "nbformat": 4,
 "nbformat_minor": 2,
 "cells": [
  {
   "cell_type": "code",
   "execution_count": 1,
   "metadata": {},
   "outputs": [],
   "source": [
    "import numpy as np\n",
    "import copy\n",
    "import matplotlib.pyplot as plt\n",
    "import cv2\n",
    "import MPS\n",
    "import other.MatrixProductState"
   ]
  },
  {
   "cell_type": "code",
   "execution_count": 2,
   "metadata": {},
   "outputs": [
    {
     "output_type": "stream",
     "name": "stdout",
     "text": [
      "(4, 10)\n(10, 4, 10)\n(10, 4, 10)\n(10, 4, 10)\n(10, 4)\n"
     ]
    }
   ],
   "source": [
    "x = MPS.mps.init_rand(d = 4, chi = 10, length = 5)\n",
    "# :param d: 物理指标维数\n",
    "# :param chi: 辅助指标截断维数\n",
    "# :param length: 张量个数\n",
    "\n",
    "for n in range(0,x.length):\n",
    "    print(x.tensors[n].shape)\n",
    "    # tensors is a list"
   ]
  },
  {
   "cell_type": "code",
   "execution_count": 10,
   "metadata": {},
   "outputs": [
    {
     "output_type": "stream",
     "name": "stdout",
     "text": [
      "(3, 5)\n(5, 10, 9)\n(9, 2, 7)\n(7, 10, 3)\n(3, 6)\n"
     ]
    }
   ],
   "source": [
    "tensors = list()\n",
    "tensors += [np.random.randn(3, 5)]\n",
    "tensors += [np.random.randn(5, 10, 9)]\n",
    "tensors += [np.random.randn(9, 2, 7)]\n",
    "tensors += [np.random.randn(7, 10, 3)]\n",
    "tensors += [np.random.randn(3, 6)]\n",
    "y = MPS.mps.init_tensors(tensors)\n",
    "for n in range(0,y.length):\n",
    "    print(y.tensors[n].shape)"
   ]
  },
  {
   "cell_type": "code",
   "execution_count": 6,
   "metadata": {},
   "outputs": [
    {
     "output_type": "stream",
     "name": "stdout",
     "text": [
      "(4, 4)\n(4, 4, 8)\n(8, 4, 8)\n(8, 4, 4)\n(4, 4)\n"
     ]
    }
   ],
   "source": [
    "X = x.mps2tensor()\r\n",
    "x.center_orth(2, cut_dim = 5)\r\n",
    "for n in range(0,x.length):\r\n",
    "    print(x.tensors[n].shape)"
   ]
  },
  {
   "cell_type": "code",
   "execution_count": 7,
   "metadata": {},
   "outputs": [
    {
     "output_type": "stream",
     "name": "stdout",
     "text": [
      "0.0\n"
     ]
    }
   ],
   "source": [
    "X1 = x.mps2tensor()\n",
    "X = X/np.linalg.norm(X)\n",
    "X1 = X1/np.linalg.norm(X1)\n",
    "err = np.linalg.norm(X-X1)\n",
    "print(err)"
   ]
  },
  {
   "cell_type": "code",
   "execution_count": 11,
   "metadata": {},
   "outputs": [
    {
     "output_type": "stream",
     "name": "stdout",
     "text": [
      "(3, 3)\n(3, 10, 5)\n(5, 2, 5)\n(5, 10, 3)\n(3, 6)\n"
     ]
    }
   ],
   "source": [
    "Y = y.mps2tensor()\n",
    "y.center_orth(1, cut_dim = 5)\n",
    "for n in range(0,y.length):\n",
    "    print(y.tensors[n].shape)"
   ]
  },
  {
   "cell_type": "code",
   "execution_count": 12,
   "metadata": {},
   "outputs": [
    {
     "output_type": "stream",
     "name": "stdout",
     "text": [
      "0.2818636648491108\n"
     ]
    }
   ],
   "source": [
    "Y1 = y.mps2tensor()\n",
    "Y = Y/np.linalg.norm(Y)\n",
    "Y1 = Y1/np.linalg.norm(Y1)\n",
    "err = np.linalg.norm(Y-Y1)\n",
    "print(err)"
   ]
  },
  {
   "cell_type": "code",
   "execution_count": null,
   "metadata": {},
   "outputs": [],
   "source": []
  }
 ]
}