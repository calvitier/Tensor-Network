{
 "metadata": {
  "language_info": {
   "codemirror_mode": {
    "name": "ipython",
    "version": 3
   },
   "file_extension": ".py",
   "mimetype": "text/x-python",
   "name": "python",
   "nbconvert_exporter": "python",
   "pygments_lexer": "ipython3",
   "version": "3.8.3-final"
  },
  "orig_nbformat": 2,
  "kernelspec": {
   "name": "python3",
   "display_name": "Python 3.8.3 64-bit",
   "metadata": {
    "interpreter": {
     "hash": "731cbb73a4bf88ae2f5123cc0c4d4e309c0309984f523cb2ae19e50a39613544"
    }
   }
  }
 },
 "nbformat": 4,
 "nbformat_minor": 2,
 "cells": [
  {
   "cell_type": "code",
   "execution_count": 1,
   "metadata": {},
   "outputs": [],
   "source": [
    "import quimb as qu\n",
    "import quimb.tensor as qtn\n",
    "import numpy as np"
   ]
  },
  {
   "cell_type": "code",
   "execution_count": 2,
   "metadata": {},
   "outputs": [
    {
     "output_type": "execute_result",
     "data": {
      "text/plain": [
       "Tensor(shape=(2, 2), inds=('k0', 'k1'), tags={'KET'})"
      ]
     },
     "metadata": {},
     "execution_count": 2
    }
   ],
   "source": [
    "data = qu.bell_state('psi-').reshape(2, 2)\n",
    "inds = 'k0', 'k1'\n",
    "tags = 'KET'\n",
    "\n",
    "ket = qtn.Tensor(data, inds, tags)\n",
    "ket"
   ]
  },
  {
   "cell_type": "code",
   "execution_count": 3,
   "metadata": {},
   "outputs": [
    {
     "output_type": "execute_result",
     "data": {
      "text/plain": [
       "Tensor(shape=(2, 2), inds=('k0', 'k1'), tags={'KET'})"
      ]
     },
     "metadata": {},
     "execution_count": 3
    }
   ],
   "source": [
    "ket.H"
   ]
  },
  {
   "cell_type": "code",
   "execution_count": 4,
   "metadata": {},
   "outputs": [
    {
     "output_type": "execute_result",
     "data": {
      "text/plain": [
       "[[ 0.      +0.j  0.707107+0.j]\n",
       " [-0.707107+0.j  0.      +0.j]]"
      ]
     },
     "metadata": {},
     "execution_count": 4
    }
   ],
   "source": [
    "ket.data"
   ]
  },
  {
   "cell_type": "code",
   "execution_count": 5,
   "metadata": {},
   "outputs": [],
   "source": [
    "X = qtn.Tensor(qu.pauli('X'), inds=('k0', 'b0'), tags=['PAULI', 'X', '0'])\n",
    "Y = qtn.Tensor(qu.pauli('Y'), inds=('k1', 'b1'), tags=['PAULI', 'Y', '1'])"
   ]
  },
  {
   "cell_type": "code",
   "execution_count": 6,
   "metadata": {},
   "outputs": [
    {
     "output_type": "execute_result",
     "data": {
      "text/plain": [
       "[[ 0.+0.j -0.-1.j]\n",
       " [ 0.+1.j  0.+0.j]]"
      ]
     },
     "metadata": {},
     "execution_count": 6
    }
   ],
   "source": [
    "Y.data"
   ]
  },
  {
   "cell_type": "code",
   "execution_count": 7,
   "metadata": {},
   "outputs": [
    {
     "output_type": "execute_result",
     "data": {
      "text/plain": [
       "[[ 0.-0.j -0.+1.j]\n",
       " [ 0.-1.j  0.-0.j]]"
      ]
     },
     "metadata": {},
     "execution_count": 7
    }
   ],
   "source": [
    "Y.H.data"
   ]
  },
  {
   "cell_type": "code",
   "execution_count": 8,
   "metadata": {},
   "outputs": [
    {
     "output_type": "execute_result",
     "data": {
      "text/plain": [
       "[[ 0.-0.j -0.+1.j]\n",
       " [ 0.-1.j  0.-0.j]]"
      ]
     },
     "metadata": {},
     "execution_count": 8
    }
   ],
   "source": [
    "Y.conj().data"
   ]
  },
  {
   "cell_type": "code",
   "execution_count": 9,
   "metadata": {},
   "outputs": [],
   "source": [
    "bra = qtn.Tensor(qu.rand_ket(4).reshape(2, 2), inds=('b0', 'b1'), tags={'BRA'})"
   ]
  },
  {
   "cell_type": "code",
   "execution_count": 10,
   "metadata": {},
   "outputs": [
    {
     "output_type": "stream",
     "name": "stdout",
     "text": [
      "TensorNetwork([\n    Tensor(shape=(2, 2), inds=('k0', 'k1'), tags={'KET'}),\n    Tensor(shape=(2, 2), inds=('k0', 'b0'), tags={'PAULI', 'X', '0'}),\n    Tensor(shape=(2, 2), inds=('k1', 'b1'), tags={'Y', 'PAULI', '1'}),\n    Tensor(shape=(2, 2), inds=('b0', 'b1'), tags={'BRA'}),\n])\n"
     ]
    }
   ],
   "source": [
    "TN = ket.H & X & Y & bra\n",
    "print(TN)"
   ]
  },
  {
   "cell_type": "code",
   "execution_count": 11,
   "metadata": {},
   "outputs": [
    {
     "output_type": "stream",
     "name": "stdout",
     "text": [
      "psi0: |00000000000000100000000000000100000000000000>\n"
     ]
    }
   ],
   "source": [
    "L = 44\n",
    "zeros = '0' * ((L - 2) // 3)\n",
    "binary = zeros + '1' + zeros + '1' + zeros\n",
    "print('psi0:', f\"|{binary}>\")"
   ]
  },
  {
   "cell_type": "code",
   "execution_count": 12,
   "metadata": {},
   "outputs": [
    {
     "output_type": "stream",
     "name": "stdout",
     "text": [
      "     1 1 1 1 1 1 1 1 1 1 1 1 1 1 1 1 1 1 1 1 1 1 1 1 1 1 1 1 1 1 1 1 1 1 1    \n    >->->->->->->->->->->->->->->->->->->->->->->->->->->->->->->->->->->- ...\n    | | | | | | | | | | | | | | | | | | | | | | | | | | | | | | | | | | |     \n                                 ...                                  \n     1 1 1 1 1 1 1 1 \n... >->->->->->->->-<\n    | | | | | | | | |\n"
     ]
    }
   ],
   "source": [
    "psi0 = qtn.MPS_computational_state(binary)\n",
    "psi0.show()  # prints ascii representation of state"
   ]
  },
  {
   "cell_type": "code",
   "execution_count": 13,
   "metadata": {},
   "outputs": [],
   "source": [
    "H = qtn.NNI_ham_heis(L)"
   ]
  },
  {
   "cell_type": "code",
   "execution_count": 14,
   "metadata": {},
   "outputs": [],
   "source": [
    "tebd = qtn.TEBD(psi0, H)\n",
    "\n",
    "# Since entanglement will not grow too much, we can set quite\n",
    "#     a small cutoff for splitting after each gate application\n",
    "tebd.split_opts['cutoff'] = 1e-12"
   ]
  },
  {
   "cell_type": "code",
   "execution_count": 15,
   "metadata": {},
   "outputs": [],
   "source": [
    "# times we are interested in\n",
    "ts = np.linspace(0, 80, 101)\n",
    "\n",
    "mz_t_j = []  # z-magnetization\n",
    "be_t_b = []  # block entropy\n",
    "sg_t_b = []  # schmidt gap\n",
    "\n",
    "# range of bonds, and sites\n",
    "js = np.arange(0, L)\n",
    "bs = np.arange(1, L)"
   ]
  },
  {
   "cell_type": "code",
   "execution_count": 16,
   "metadata": {},
   "outputs": [
    {
     "output_type": "stream",
     "name": "stderr",
     "text": [
      "t=80, max-bond=15: 100%|##########| 101/101 [03:25<00:00,  2.03s/it]\n"
     ]
    }
   ],
   "source": [
    "# generate the state at each time in ts\n",
    "#     and target error 1e-3 for whole evolution\n",
    "for psit in tebd.at_times(ts, tol=1e-3):\n",
    "    mz_j = []\n",
    "    be_b = []\n",
    "    sg_b = []\n",
    "\n",
    "    # there is one more site than bond, so start with mag\n",
    "    #     this also sets the orthog center to 0\n",
    "    mz_j += [psit.magnetization(0)]\n",
    "\n",
    "    for j in range(1, L):\n",
    "        # after which we only need to move it from previous site\n",
    "        mz_j += [psit.magnetization(j, cur_orthog=j - 1)]\n",
    "        be_b += [psit.entropy(j, cur_orthog=j)]\n",
    "        sg_b += [psit.schmidt_gap(j, cur_orthog=j)]\n",
    "\n",
    "    mz_t_j += [mz_j]\n",
    "    be_t_b += [be_b]\n",
    "    sg_t_b += [sg_b]"
   ]
  },
  {
   "cell_type": "code",
   "execution_count": 17,
   "metadata": {},
   "outputs": [
    {
     "output_type": "stream",
     "name": "stdout",
     "text": [
      "     2 4 5 6 7 8 9 10 11 12 13 14 14 14 15 15 15 15 15 15 15 15 15 15 15 1    \n    >->->->->->->->-->-->-->-->-->-->-->-->-->-->-->-->-->-->-->-->-->-->- ...\n    | | | | | | | |  |  |  |  |  |  |  |  |  |  |  |  |  |  |  |  |  |  |     \n                                 ...                                  \n    5 14 14 14 14 14 13 13 12 11 10 9 8 7 6 5 4 2 \n... ->-->-->-->-->-->-->-->-->-->-->->->->->->->-o\n     |  |  |  |  |  |  |  |  |  |  | | | | | | | |\n"
     ]
    }
   ],
   "source": [
    "tebd.pt.show()"
   ]
  },
  {
   "cell_type": "code",
   "execution_count": 18,
   "metadata": {},
   "outputs": [
    {
     "output_type": "execute_result",
     "data": {
      "text/plain": [
       "0.0009938931328611381"
      ]
     },
     "metadata": {},
     "execution_count": 18
    }
   ],
   "source": [
    "tebd.err  #  should be < tol=1e-3"
   ]
  },
  {
   "cell_type": "code",
   "execution_count": 19,
   "metadata": {},
   "outputs": [
    {
     "output_type": "stream",
     "name": "stdout",
     "text": [
      "Initial energy: 8.75\n",
      "Final energy: (8.74999946929479+1.8323012330676444e-17j)\n"
     ]
    }
   ],
   "source": [
    "H = qtn.MPO_ham_heis(L)\n",
    "print(\"Initial energy:\", qtn.expec_TN_1D(psi0.H, H, psi0))\n",
    "print(\"Final energy:\", qtn.expec_TN_1D(tebd.pt.H , H, tebd.pt))"
   ]
  },
  {
   "cell_type": "code",
   "execution_count": 20,
   "metadata": {},
   "outputs": [
    {
     "output_type": "execute_result",
     "data": {
      "text/plain": [
       "(0.9999999998801925+1.1408058114303859e-16j)"
      ]
     },
     "metadata": {},
     "execution_count": 20
    }
   ],
   "source": [
    "tebd.pt.H @ tebd.pt"
   ]
  }
 ]
}